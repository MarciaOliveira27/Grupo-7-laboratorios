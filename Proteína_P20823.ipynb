{
 "cells": [
  {
   "cell_type": "markdown",
   "id": "72e996ea",
   "metadata": {},
   "source": [
    "__Proteína P20823__\n",
    "Hepatocyte nuclear factor 1-alpha"
   ]
  },
  {
   "cell_type": "code",
   "execution_count": 31,
   "id": "ab397f99",
   "metadata": {},
   "outputs": [],
   "source": [
    "from Bio.Blast import NCBIWWW\n",
    "from Bio.Blast import NCBIXML\n",
    "from Bio import SeqIO\n",
    "from Bio.SeqRecord import SeqRecord\n",
    "import re"
   ]
  },
  {
   "cell_type": "code",
   "execution_count": 49,
   "id": "f92bc1cb",
   "metadata": {},
   "outputs": [],
   "source": [
    "P20823 = []\n",
    "\n",
    "for i in SeqIO.parse(\"P20823.fasta\",\"fasta\"):\n",
    "    nome = i.id\n",
    "    descricao = i.description\n",
    "    seq = i.seq\n",
    "    features = i.features\n",
    "    cross_references = i.dbxrefs\n",
    "    anotacoes = i.annotations\n",
    "    letter_annotations = i.letter_annotations\n",
    "    \n",
    "    id_uniprot = re.findall('\\|.*|',descricao)\n",
    "    id_uniprot = id_uniprot[0].replace('|','')"
   ]
  },
  {
   "cell_type": "code",
   "execution_count": 44,
   "id": "10727778",
   "metadata": {},
   "outputs": [
    {
     "name": "stdout",
     "output_type": "stream",
     "text": [
      "Nome da proteína:  sp|P20823|HNF1A_HUMAN\n"
     ]
    }
   ],
   "source": [
    "print(\"Nome da proteína: \",nome)"
   ]
  },
  {
   "cell_type": "code",
   "execution_count": 45,
   "id": "3310deda",
   "metadata": {},
   "outputs": [
    {
     "name": "stdout",
     "output_type": "stream",
     "text": [
      "Descrição da proteína:  sp|P20823|HNF1A_HUMAN Hepatocyte nuclear factor 1-alpha OS=Homo sapiens OX=9606 GN=HNF1A PE=1 SV=2\n"
     ]
    }
   ],
   "source": [
    "print(\"Descrição da proteína: \", descricao)"
   ]
  },
  {
   "cell_type": "code",
   "execution_count": 46,
   "id": "c5ccfe5e",
   "metadata": {},
   "outputs": [
    {
     "name": "stdout",
     "output_type": "stream",
     "text": [
      "MVSKLSQLQTELLAALLESGLSKEALIQALGEPGPYLLAGEGPLDKGESCGGGRGELAELPNGLGETRGSEDETDDDGEDFTPPILKELENLSPEEAAHQKAVVETLLQEDPWRVAKMVKSYLQQHNIPQREVVDTTGLNQSHLSQHLNKGTPMKTQKRAALYTWYVRKQREVAQQFTHAGQGGLIEEPTGDELPTKKGRRNRFKWGPASQQILFQAYERQKNPSKEERETLVEECNRAECIQRGVSPSQAQGLGSNLVTEVRVYNWFANRRKEEAFRHKLAMDTYSGPPPGPGPGPALPAHSSPGLPPPALSPSKVHGVRYGQPATSETAEVPSSSGGPLVTVSTPLHQVSPTGLEPSHSLLSTEAKLVSAAGGPLPPVSTLTALHSLEQTSPGLNQQPQNLIMASLPGVMTIGPGEPASLGPTFTNTGASTLVIGLASTQAQSVPVINSMGSSLTTLQPVQFSQPLHPSYQQPLMPPVQSHVTQSPFMATMAQLQSPHALYSHKPEVAQYTHTGLLPQTMLITDTTNLSALASLTPTKQVFTSDTEASSESGLHTPASQATTLHVPSQDPAGIQHLQPAHRLSASPTVSSSSLVLYQSSDSSNGQSHLLPSNHSVIETFISTQMASSSQ\n"
     ]
    }
   ],
   "source": [
    "print(seq) #sequência"
   ]
  },
  {
   "cell_type": "code",
   "execution_count": 50,
   "id": "4ce5cb37",
   "metadata": {},
   "outputs": [
    {
     "name": "stdout",
     "output_type": "stream",
     "text": [
      "[]\n"
     ]
    }
   ],
   "source": [
    "print(features)"
   ]
  },
  {
   "cell_type": "code",
   "execution_count": 51,
   "id": "f290df93",
   "metadata": {},
   "outputs": [
    {
     "name": "stdout",
     "output_type": "stream",
     "text": [
      "{}\n"
     ]
    }
   ],
   "source": [
    "print(anotacoes)"
   ]
  },
  {
   "cell_type": "code",
   "execution_count": 52,
   "id": "ae556e4e",
   "metadata": {},
   "outputs": [
    {
     "name": "stdout",
     "output_type": "stream",
     "text": [
      "{}\n"
     ]
    }
   ],
   "source": [
    "print(letter_annotations)"
   ]
  },
  {
   "cell_type": "code",
   "execution_count": null,
   "id": "216133ed",
   "metadata": {},
   "outputs": [],
   "source": []
  },
  {
   "cell_type": "code",
   "execution_count": null,
   "id": "e0515c1c",
   "metadata": {},
   "outputs": [],
   "source": []
  },
  {
   "cell_type": "code",
   "execution_count": 25,
   "id": "a4fa8248",
   "metadata": {},
   "outputs": [
    {
     "name": "stdout",
     "output_type": "stream",
     "text": [
      "[SeqRecord(seq=Seq('MVSKLSQLQTELLAALLESGLSKEALIQALGEPGPYLLAGEGPLDKGESCGGGR...SSQ'), id='sp|P20823|HNF1A_HUMAN', name='sp|P20823|HNF1A_HUMAN', description='sp|P20823|HNF1A_HUMAN Hepatocyte nuclear factor 1-alpha OS=Homo sapiens OX=9606 GN=HNF1A PE=1 SV=2', dbxrefs=[])]\n"
     ]
    },
    {
     "data": {
      "text/plain": [
       "13"
      ]
     },
     "execution_count": 25,
     "metadata": {},
     "output_type": "execute_result"
    }
   ],
   "source": [
    "domains = list(SeqIO.parse(\"P20823.fasta\",'fasta'))\n",
    "print(domains)\n",
    "#set up receiving arrays\n",
    "\n",
    "home=[]\n",
    "#num=1\n",
    "#subset data\n",
    "for record in (domains):\n",
    "    num = 0\n",
    "    domain = record.seq\n",
    "    name = record.id\n",
    "    record_d = SeqRecord(domain,'%s' % (name), '', '')\n",
    "    home.append(record_d)\n",
    "    for i in range(0, 6):\n",
    "        num= num+1\n",
    "        seq_n = record.seq[0:num]\n",
    "        seq_c = record.seq[len(record.seq)-num:len(record.seq)]\n",
    "        record_n = SeqRecord(seq_n,'%s_n_%i' % (name,num), '', '')\n",
    "        home.append(record_n)\n",
    "        record_c = SeqRecord(seq_c,'%s_c_%i' % (name,num), '', '')\n",
    "        home.append(record_c)\n",
    "SeqIO.write(home, \"domains_variants.fasta\", \"fasta\")"
   ]
  },
  {
   "cell_type": "code",
   "execution_count": 26,
   "id": "1f3a89e1",
   "metadata": {},
   "outputs": [
    {
     "name": "stdout",
     "output_type": "stream",
     "text": [
      "ID: sp|P20823|HNF1A_HUMAN_n_6\n",
      "Number of features: 0\n",
      "Seq('MVSKLS')\n"
     ]
    }
   ],
   "source": [
    "print(record_n)"
   ]
  },
  {
   "cell_type": "code",
   "execution_count": 27,
   "id": "ebbc1595",
   "metadata": {},
   "outputs": [
    {
     "name": "stdout",
     "output_type": "stream",
     "text": [
      "MVSKLS\n"
     ]
    }
   ],
   "source": [
    "print(seq_n) #início da sequência codificada"
   ]
  },
  {
   "cell_type": "code",
   "execution_count": 30,
   "id": "b2cf5a6d",
   "metadata": {},
   "outputs": [
    {
     "name": "stdout",
     "output_type": "stream",
     "text": [
      "MASSSQ\n"
     ]
    }
   ],
   "source": [
    "print(seq_c) #fim da sequência codificada"
   ]
  },
  {
   "cell_type": "code",
   "execution_count": 29,
   "id": "dad48c80",
   "metadata": {},
   "outputs": [
    {
     "name": "stdout",
     "output_type": "stream",
     "text": [
      "MVSKLSQLQTELLAALLESGLSKEALIQALGEPGPYLLAGEGPLDKGESCGGGRGELAELPNGLGETRGSEDETDDDGEDFTPPILKELENLSPEEAAHQKAVVETLLQEDPWRVAKMVKSYLQQHNIPQREVVDTTGLNQSHLSQHLNKGTPMKTQKRAALYTWYVRKQREVAQQFTHAGQGGLIEEPTGDELPTKKGRRNRFKWGPASQQILFQAYERQKNPSKEERETLVEECNRAECIQRGVSPSQAQGLGSNLVTEVRVYNWFANRRKEEAFRHKLAMDTYSGPPPGPGPGPALPAHSSPGLPPPALSPSKVHGVRYGQPATSETAEVPSSSGGPLVTVSTPLHQVSPTGLEPSHSLLSTEAKLVSAAGGPLPPVSTLTALHSLEQTSPGLNQQPQNLIMASLPGVMTIGPGEPASLGPTFTNTGASTLVIGLASTQAQSVPVINSMGSSLTTLQPVQFSQPLHPSYQQPLMPPVQSHVTQSPFMATMAQLQSPHALYSHKPEVAQYTHTGLLPQTMLITDTTNLSALASLTPTKQVFTSDTEASSESGLHTPASQATTLHVPSQDPAGIQHLQPAHRLSASPTVSSSSLVLYQSSDSSNGQSHLLPSNHSVIETFISTQMASSSQ\n"
     ]
    }
   ],
   "source": [
    "print(record.seq) #sequência codificada"
   ]
  },
  {
   "cell_type": "code",
   "execution_count": 32,
   "id": "e5f8ceaf",
   "metadata": {},
   "outputs": [
    {
     "data": {
      "text/plain": [
       "631"
      ]
     },
     "execution_count": 32,
     "metadata": {},
     "output_type": "execute_result"
    }
   ],
   "source": [
    "len(record.seq) #tamanho da sequência codificante: 631 aminoácidos"
   ]
  },
  {
   "cell_type": "code",
   "execution_count": null,
   "id": "859b08c7",
   "metadata": {},
   "outputs": [],
   "source": [
    "# link da uniprot da proteína P20823 \n",
    "#   https://www.uniprot.org/uniprotkb/P20823/entry"
   ]
  },
  {
   "cell_type": "code",
   "execution_count": null,
   "id": "ca1a7920",
   "metadata": {},
   "outputs": [],
   "source": []
  },
  {
   "cell_type": "code",
   "execution_count": null,
   "id": "51dcb6c9",
   "metadata": {},
   "outputs": [],
   "source": []
  }
 ],
 "metadata": {
  "kernelspec": {
   "display_name": "Python 3 (ipykernel)",
   "language": "python",
   "name": "python3"
  },
  "language_info": {
   "codemirror_mode": {
    "name": "ipython",
    "version": 3
   },
   "file_extension": ".py",
   "mimetype": "text/x-python",
   "name": "python",
   "nbconvert_exporter": "python",
   "pygments_lexer": "ipython3",
   "version": "3.9.12"
  }
 },
 "nbformat": 4,
 "nbformat_minor": 5
}
