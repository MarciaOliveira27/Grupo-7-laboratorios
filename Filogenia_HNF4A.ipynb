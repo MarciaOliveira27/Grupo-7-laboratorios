{
 "cells": [
  {
   "cell_type": "markdown",
   "id": "33d6599b",
   "metadata": {},
   "source": [
    "__Alinhamento Múltiplo e Filogenia - Proteína HNF4alpha__"
   ]
  },
  {
   "cell_type": "code",
   "execution_count": 4,
   "id": "f7201c9d",
   "metadata": {},
   "outputs": [],
   "source": [
    "from Bio.Align import MultipleSeqAlignment\n",
    "from Bio.Blast import NCBIXML\n",
    "from Bio.Blast import NCBIWWW\n",
    "from Bio import SeqIO\n",
    "from Bio import AlignIO\n",
    "from Bio.SeqRecord import SeqRecord\n",
    "from Bio.Seq import Seq\n",
    "from Bio.Align import AlignInfo"
   ]
  },
  {
   "cell_type": "code",
   "execution_count": 5,
   "id": "f827214f",
   "metadata": {},
   "outputs": [
    {
     "name": "stdout",
     "output_type": "stream",
     "text": [
      "> ref|NP_000448.3| hepatocyte nuclear factor 4-alpha isoform 2 [Homo sapiens] >ref|XP_047296091.1| hepatocyte nuclear factor 4-alpha isoform X1 [Homo sapiens] >ref|XP_047296092.1| hepatocyte nuclear factor 4-alpha isoform X1 [Homo sapiens] >ref|XP_047296093.1| hepatocyte nuclear factor 4-alpha isoform X1 [Homo sapiens] >sp|P41235.3| RecName: Full=Hepatocyte nuclear factor 4-alpha; Short=HNF-4-alpha; AltName: Full=Nuclear receptor subfamily 2 group A member 1; AltName: Full=Transcription factor 14; Short=TCF-14; AltName: Full=Transcription factor HNF-4 [Homo sapiens] >dbj|BAG73239.1| hepatocyte nuclear factor 4, alpha, partial [synthetic construct] >gb|ABQ52204.1| hepatocyte nuclear factor 4, alpha [Homo sapiens] >gb|ADZ17380.1| hepatocyte nuclear factor 4 4 alpha variant 2 [Homo sapiens] >gb|EAW75925.1| hepatocyte nuclear factor 4, alpha, isoform CRA_e [Homo sapiens] >gb|KAI2594932.1| hepatocyte nuclear factor 4 alpha [Homo sapiens] \n",
      " MRLSKTLVDMDMADYSAALDPAYTTLEFENVQVLTMGNDTSPSEGTNLNAPNSLGVSALCAICGDRATGKHYGASSCDGCKGFFRRSVRKNHMYSCRFSRQCVVDKDKRNQCRYCRLKKCFRAGMKKEAVQNERDRISTRRSSYEDSSLPSINALLQAEVLSRQITSPVSGINGDIRAKKIASIADVCESMKEQLLVLVEWAKYIPAFCELPLDDQVALLRAHAGEHLLLGATKRSMVFKDVLLLGNDYIVPRHCPELAEMSRVSIRILDELVLPFQELQIDDNEYAYLKAIIFFDPDAKGLSDPGKIKRLRSQVQVSLEDYINDRQYDSRGRFGELLLLLPTLQSITWQMIEQIQFIKLFGMAKIDNLLQEMLLGGSPSDAPHAHHPLHPHLMQEHMGTNVIVANTMPTHLSNGQMCEWPRPRGQAATPETPQPSPPGGSGSEPYKLLPGAVATIVKPLSAIPQPTITKQEVI\n",
      "\n",
      "> ref|XP_003825973.1| hepatocyte nuclear factor 4-alpha isoform X1 [Pan paniscus] >ref|XP_016793440.1| hepatocyte nuclear factor 4-alpha isoform X1 [Pan troglodytes] >ref|XP_024094609.1| hepatocyte nuclear factor 4-alpha isoform X3 [Pongo abelii] >ref|XP_031997951.1| hepatocyte nuclear factor 4-alpha isoform X3 [Hylobates moloch] >gb|PNI59982.1| HNF4A isoform 1 [Pan troglodytes] >gb|PNJ86189.1| HNF4A isoform 1 [Pongo abelii] \n",
      " MRLSKTLVDMDMADYSAALDPAYTTLEFENVQVLTMGNDTSPSEGTNLNAPNSLGVSALCAICGDRATGKHYGASSCDGCKGFFRRSVRKNHMYSCRFSRQCVVDKDKRNQCRYCRLKKCFRAGMKKEAVQNERDRISTRRSSYEDSSLPSINALLQAEVLSRQITSPVSGINGDIRAKKIASIADVCESMKEQLLVLVEWAKYIPAFCELPLDDQVALLRAHAGEHLLLGATKRSMVFKDVLLLGNDYIVPRHCPELAEMSRVSIRILDELVLPFQELQIDDNEYAYLKAIIFFDPDAKGLSDPGKIKRLRSQVQVSLEDYINDRQYDSRGRFGELLLLLPTLQSITWQMIEQIQFIKLFGMAKIDNLLQEMLLGGSPSDAPHAHHPLHPHLMQEHMGTNVIVANTMPTHLSNGQMCEWPRPRGQAATPETPQPSPPGGSGSEPYKLLPGAVATIVKPLSAIPQPTITKQEVI\n",
      "\n",
      "> gb|UNG30092.1| HNF4A mutant L272P, partial [Homo sapiens] \n",
      " MRLSKTLVDMDMADYSAALDPAYTTLEFENVQVLTMGNDTSPSEGTNLNAPNSLGVSALCAICGDRATGKHYGASSCDGCKGFFRRSVRKNHMYSCRFSRQCVVDKDKRNQCRYCRLKKCFRAGMKKEAVQNERDRISTRRSSYEDSSLPSINALLQAEVLSRQITSPVSGINGDIRAKKIASIADVCESMKEQLLVLVEWAKYIPAFCELPLDDQVALLRAHAGEHLLLGATKRSMVFKDVLLLGNDYIVPRHCPELAEMSRVSIRILDELVLPFQELQIDDNEYAYLKAIIFFDPDAKGLSDPGKIKRLRSQVQVSLEDYINDRQYDSRGRFGELLLLLPTLQSITWQMIEQIQFIKLFGMAKIDNLLQEMLLGGSPSDAPHAHHPLHPHLMQEHMGTNVIVANTMPTHLSNGQMCEWPRPRGQAATPETPQPSPPGGSGSEPYKLLPGAVATIVKPLSAIPQPTITKQEVI\n",
      "\n",
      "> ref|XP_003936451.1| hepatocyte nuclear factor 4-alpha isoform X1 [Saimiri boliviensis boliviensis] >ref|XP_005569130.1| hepatocyte nuclear factor 4-alpha isoform X1 [Macaca fascicularis] >ref|XP_008014841.1| hepatocyte nuclear factor 4-alpha isoform X1 [Chlorocebus sabaeus] >ref|XP_011765090.1| hepatocyte nuclear factor 4-alpha isoform X1 [Macaca nemestrina] >ref|XP_011921098.1| PREDICTED: hepatocyte nuclear factor 4-alpha isoform X3 [Cercocebus atys] >ref|XP_015004440.1| hepatocyte nuclear factor 4-alpha isoform X1 [Macaca mulatta] >ref|XP_017396657.1| hepatocyte nuclear factor 4-alpha isoform X2 [Cebus imitator] >ref|XP_023083751.1| hepatocyte nuclear factor 4-alpha isoform X2 [Piliocolobus tephrosceles] >ref|XP_025255014.1| hepatocyte nuclear factor 4-alpha isoform X1 [Theropithecus gelada] >ref|XP_035154568.1| hepatocyte nuclear factor 4-alpha isoform X2 [Callithrix jacchus] >ref|XP_050662479.1| hepatocyte nuclear factor 4-alpha isoform X1 [Macaca thibetana thibetana] \n",
      " MRLSKTLVDMDMADYSAALDPAYTTLEFENVQVLTMGNDTSPSEGTNLNAPNSLGVSALCAICGDRATGKHYGASSCDGCKGFFRRSVRKNHMYSCRFSRQCVVDKDKRNQCRYCRLKKCFRAGMKKEAVQNERDRISTRRSSYEDSSLPSINALLQAEVLSRQITSPVSGINGDIRAKKIASIADVCESMKEQLLVLVEWAKYIPAFCELPLDDQVALLRAHAGEHLLLGATKRSMVFKDVLLLGNDYIVPRHCPELAEMSRVSIRILDELVLPFQELQIDDNEYAYLKAIIFFDPDAKGLSDPGKIKRLRSQVQVSLEDYINDRQYDSRGRFGELLLLLPTLQSITWQMIEQIQFIKLFGMAKIDNLLQEMLLGGSPSDAPHAHHPLHPHLMQEHMGTNVIVANTMPTHLSNGQMCEWPRPRGQAATPETPQPSPPGGSGSEPYKLLPGAVATIVKPLSAIPQPTITKQEVI\n",
      "\n",
      "> ref|XP_004062244.2| hepatocyte nuclear factor 4-alpha isoform X2 [Gorilla gorilla gorilla] >ref|XP_030681365.1| hepatocyte nuclear factor 4-alpha isoform X3 [Nomascus leucogenys] \n",
      " MRLSKTLVDMDMADYSAALDPAYTTLEFENVQVLTMGNDTSPSEGTNLNAPNSLGVSALCAICGDRATGKHYGASSCDGCKGFFRRSVRKNHMYSCRFSRQCVVDKDKRNQCRYCRLKKCFRAGMKKEAVQNERDRISTRRSSYEDSSLPSINALLQAEVLSRQITSPVSGINGDIRAKKIASIADVCESMKEQLLVLVEWAKYIPAFCELPLDDQVALLRAHAGEHLLLGATKRSMVFKDVLLLGNDYIVPRHCPELAEMSRVSIRILDELVLPFQELQIDDNEYAYLKAIIFFDPDAKGLSDPGKIKRLRSQVQVSLEDYINDRQYDSRGRFGELLLLLPTLQSITWQMIEQIQFIKLFGMAKIDNLLQEMLLGGSPSDAPHAHHPLHPHLMQEHMGTNVIVANTMPTHLSNGQMCEWPRPRGQAATPETPQPSPPGGSGSEPYKLLPGAVATIVKPLSAIPQPTITKQEVI\n",
      "\n",
      "> ref|XP_032119543.1| hepatocyte nuclear factor 4-alpha isoform X2 [Sapajus apella] \n",
      " MRLSKTLVDMDMADYSAALDPAYTTLEFENVQVLTMGNDTSPSEGTNLNAPNSLGVSALCAICGDRATGKHYGASSCDGCKGFFRRSVRKNHMYSCRFSRQCVVDKDKRNQCRYCRLKKCFRAGMKKEAVQNERDRISTRRSSYEDSSLPSINALLQAEVLSRQITSPVSGINGDIRAKKIASIADVCESMKEQLLVLVEWAKYIPAFCELPLDDQVALLRAHAGEHLLLGATKRSMVFKDVLLLGNDYIVPRHCPELAEMSRVSIRILDELVLPFQELQIDDNEYAYLKAIIFFDPDAKGLSDPGKIKRLRSQVQVSLEDYINDRQYDSRGRFGELLLLLPTLQSITWQMIEQIQFIKLFGMAKIDNLLQEMLLGGSPSDAPHAHHPLHPHLMQEHMGTNVIVANTMPTHLSNGQMCEWPRPRGQAATPETPQPSPPGGSGSEPYKLLPGAVATIVKPLSAIPQPTITKQEVI\n",
      "\n",
      "> ref|XP_010382581.1| hepatocyte nuclear factor 4-alpha isoform X1 [Rhinopithecus roxellana] >ref|XP_012322652.1| hepatocyte nuclear factor 4-alpha isoform X2 [Aotus nancymaae] >ref|XP_017733510.1| PREDICTED: hepatocyte nuclear factor 4-alpha isoform X2 [Rhinopithecus bieti] >ref|XP_033042371.1| hepatocyte nuclear factor 4-alpha isoform X2 [Trachypithecus francoisi] \n",
      " MRLSKTLVDMDMADYSAALDPAYTTLEFENVQVLTMGNDTSPSEGTNLNAPNSLGVSALCAICGDRATGKHYGASSCDGCKGFFRRSVRKNHMYSCRFSRQCVVDKDKRNQCRYCRLKKCFRAGMKKEAVQNERDRISTRRSSYEDSSLPSINALLQAEVLSRQITSPVSGINGDIRAKKIASIADVCESMKEQLLVLVEWAKYIPAFCELPLDDQVALLRAHAGEHLLLGATKRSMVFKDVLLLGNDYIVPRHCPELAEMSRVSIRILDELVLPFQELQIDDNEYAYLKAIIFFDPDAKGLSDPGKIKRLRSQVQVSLEDYINDRQYDSRGRFGELLLLLPTLQSITWQMIEQIQFIKLFGMAKIDNLLQEMLLGGSPSDAPHAHHPLHPHLMQEHMGTNVIVANTMPTHLSNGQMCEWPRPRGQAATPETPQPSPPGGSGSEPYKLLPGAVATIVKPLSAIPQPTITKQEVI\n",
      "\n",
      "> ref|XP_011853032.1| PREDICTED: hepatocyte nuclear factor 4-alpha isoform X1 [Mandrillus leucophaeus] \n",
      " MRLSKTLVDMDMADYSAALDPAYTTLEFENVQVLTMGNDTSPSEGTNLNAPNSLGVSALCAICGDRATGKHYGASSCDGCKGFFRRSVRKNHMYSCRFSRQCVVDKDKRNQCRYCRLKKCFRAGMKKEAVQNERDRISTRRSSYEDSSLPSINALLQAEVLSRQITSPVSGINGDIRAKKIASIADVCESMKEQLLVLVEWAKYIPAFCELPLDDQVALLRAHAGEHLLLGATKRSMVFKDVLLLGNDYIVPRHCPELAEMSRVSIRILDELVLPFQELQIDDNEYAYLKAIIFFDPDAKGLSDPGKIKRLRSQVQVSLEDYINDRQYDSRGRFGELLLLLPTLQSITWQMIEQIQFIKLFGMAKIDNLLQEMLLGGSPSDAPHAHHPLHPHLMQEHMGTNVIVANTMPTHLSNGQMCEWPRPRGQAATPETPQPSPPGGSGSEPYKLLPGAVATIVKPLSAIPQPTITKQEVI\n",
      "\n",
      "> ref|XP_021776721.1| hepatocyte nuclear factor 4-alpha isoform X1 [Papio anubis] \n",
      " MRLSKTLVDMDMADYSAALDPAYTTLEFENVQVLTMGNDTSPSEGTNLNAPNSLGVSALCAICGDRATGKHYGASSCDGCKGFFRRSVRKNHMYSCRFSRQCVVDKDKRNQCRYCRLKKCFRAGMKKEAVQNERDRISTRRSSYEDSSLPSINALLQAEVLSRQITSPVSGINGDIRAKKIASIADVCESMKEQLLVLVEWAKYIPAFCELPLDDQVALLRAHAGEHLLLGATKRSMVFKDVLLLGNDYIVPRHCPELAEMSRVSIRILDELVLPFQELQIDDNEYAYLKAIIFFDPDAKGLSDPGKIKRLRSQVQVSLEDYINDRQYDSRGRFGELLLLLPTLQSITWQMIEQIQFIKLFGMAKIDNLLQEMLLGGSPSDAPHAHHPLHPHLMQEHMGTNVIVANTMPTHLSNGQMCEWPRPRGQAATPETPQPSPPGGSGSEPYKLLPGAVATIVKPLSAIPQPTITKQEVI\n",
      "\n",
      "> ref|XP_011784390.1| PREDICTED: hepatocyte nuclear factor 4-alpha isoform X3 [Colobus angolensis palliatus] \n",
      " MRLSKTLVDMDMADYSAALDPAYTTLEFENVQVLTMGNDTSPSEGTNLNAPNSLGVSALCAICGDRATGKHYGASSCDGCKGFFRRSVRKNHMYSCRFSRQCVVDKDKRNQCRYCRLKKCFRAGMKKEAVQNERDRISTRRSSYEDSSLPSINALLQAEVLSRQITSPVSGINGDIRAKKIASIADVCESMKEQLLVLVEWAKYIPAFCELPLDDQVALLRAHAGEHLLLGATKRSMVFKDVLLLGNDYIVPRHCPELAEMSRVSIRILDELVLPFQELQIDDNEYAYLKAIIFFDPDAKGLSDPGKIKRLRSQVQVSLEDYINDRQYDSRGRFGELLLLLPTLQSITWQMIEQIQFIKLFGMAKIDNLLQEMLLGGSPSDAPHAHHPLHPHLMQEHMGTNVIVANTMPTHLSNGQMCEWPRPRGQAATPETPQPSPPGGSGSEPYKLLPGAVATIVKPLSAIPQPTITKQEVI\n",
      "\n",
      "> ref|XP_017396656.1| hepatocyte nuclear factor 4-alpha isoform X1 [Cebus imitator] \n",
      " MRLSKTLVDMDMADYSAALDPAYTTLEFENVQVLTMGNDTSPSEGTNLNAPNSLGVSALCAICGDRATGKHYGASSCDGCKGFFRRSVRKNHMYSCRFSRQCVVDKDKRNQCRYCRLKKCFRAGMKKEAVQNERDRISTRRSSYEDSSLPSINALLQAEVLSRQITSPVSGINGDIRAKKIASIADVCESMKEQLLVLVEWAKYIPAFCELPLDDQVALLRAHAGEHLLLGATKRSMVFKDVLLLGNDYIVPRHCPELAEMSRVSIRILDELVLPFQELQIDDNEYAYLKAIIFFDPDAKGLSDPGKIKRLRSQVQVSLEDYINDRQYDSRGRFGELLLLLPTLQSITWQMIEQIQFIKLFGMAKIDNLLQEMLLGGSPSDAPHAHHPLHPHLMQEHMGTNVIVANTMPTHLSNGQMCEWPRPRGQA----------ATPETPQPSPPGGSGSEPYKLLPGAVATIVKPLSAIPQPTITKQEVI\n",
      "\n",
      "> ref|XP_035154567.1| hepatocyte nuclear factor 4-alpha isoform X1 [Callithrix jacchus] \n",
      " MRLSKTLVDMDMADYSAALDPAYTTLEFENVQVLTMGNDTSPSEGTNLNAPNSLGVSALCAICGDRATGKHYGASSCDGCKGFFRRSVRKNHMYSCRFSRQCVVDKDKRNQCRYCRLKKCFRAGMKKEAVQNERDRISTRRSSYEDSSLPSINALLQAEVLSRQITSPVSGINGDIRAKKIASIADVCESMKEQLLVLVEWAKYIPAFCELPLDDQVALLRAHAGEHLLLGATKRSMVFKDVLLLGNDYIVPRHCPELAEMSRVSIRILDELVLPFQELQIDDNEYAYLKAIIFFDPDAKGLSDPGKIKRLRSQVQVSLEDYINDRQYDSRGRFGELLLLLPTLQSITWQMIEQIQFIKLFGMAKIDNLLQEMLLGGSPSDAPHAHHPLHPHLMQEHMGTNVIVANTMPTHLSNGQMCEWPRPRGQA----------ATPETPQPSPPGGSGSEPYKLLPGAVATIVKPLSAIPQPTITKQEVI\n",
      "\n",
      "> ref|XP_032119542.1| hepatocyte nuclear factor 4-alpha isoform X1 [Sapajus apella] \n",
      " MRLSKTLVDMDMADYSAALDPAYTTLEFENVQVLTMGNDTSPSEGTNLNAPNSLGVSALCAICGDRATGKHYGASSCDGCKGFFRRSVRKNHMYSCRFSRQCVVDKDKRNQCRYCRLKKCFRAGMKKEAVQNERDRISTRRSSYEDSSLPSINALLQAEVLSRQITSPVSGINGDIRAKKIASIADVCESMKEQLLVLVEWAKYIPAFCELPLDDQVALLRAHAGEHLLLGATKRSMVFKDVLLLGNDYIVPRHCPELAEMSRVSIRILDELVLPFQELQIDDNEYAYLKAIIFFDPDAKGLSDPGKIKRLRSQVQVSLEDYINDRQYDSRGRFGELLLLLPTLQSITWQMIEQIQFIKLFGMAKIDNLLQEMLLGGSPSDAPHAHHPLHPHLMQEHMGTNVIVANTMPTHLSNGQMCEWPRPRGQA----------ATPETPQPSPPGGSGSEPYKLLPGAVATIVKPLSAIPQPTITKQEVI\n",
      "\n",
      "> ref|XP_004272927.1| hepatocyte nuclear factor 4-alpha isoform X2 [Orcinus orca] >ref|XP_026933870.1| hepatocyte nuclear factor 4-alpha isoform X1 [Lagenorhynchus obliquidens] >ref|XP_030699357.1| hepatocyte nuclear factor 4-alpha isoform X1 [Globicephala melas] >ref|XP_033695582.1| hepatocyte nuclear factor 4-alpha isoform X1 [Tursiops truncatus] \n",
      " MRLSKTLVDMDMADYSAALDPAYTTLEFENVQVLTMGNDTSPSEGTNLNAPNSLGVSALCAICGDRATGKHYGASSCDGCKGFFRRSVRKNHMYSCRFSRQCVVDKDKRNQCRYCRLKKCFRAGMKKEAVQNERDRISTRRSSYEDSSLPSINALLQAEVLSRQITSPVSGINGDIRAKKIASIADVCESMKEQLLVLVEWAKYIPAFCELPLDDQVALLRAHAGEHLLLGATKRSMVFKDVLLLGNDYIVPRHCPELAEMSRVSIRILDELVLPFQELQIDDNEYAYLKAIIFFDPDAKGLSDPGKIKRLRSQVQVSLEDYINDRQYDSRGRFGELLLLLPTLQSITWQMIEQIQFIKLFGMAKIDNLLQEMLLGGSPSDAPHAHHPLHPHLMQEHMGTNVIVANTMPTHLSNGQMCEWPRPRGQAATPETPQPSPPGGSGSEPYKLLPGAVATIVKPLSAIPQPTITKQEVI\n",
      "\n",
      "> ref|XP_012322650.1| hepatocyte nuclear factor 4-alpha isoform X1 [Aotus nancymaae] \n",
      " MRLSKTLVDMDMADYSAALDPAYTTLEFENVQVLTMGNDTSPSEGTNLNAPNSLGVSALCAICGDRATGKHYGASSCDGCKGFFRRSVRKNHMYSCRFSRQCVVDKDKRNQCRYCRLKKCFRAGMKKEAVQNERDRISTRRSSYEDSSLPSINALLQAEVLSRQITSPVSGINGDIRAKKIASIADVCESMKEQLLVLVEWAKYIPAFCELPLDDQVALLRAHAGEHLLLGATKRSMVFKDVLLLGNDYIVPRHCPELAEMSRVSIRILDELVLPFQELQIDDNEYAYLKAIIFFDPDAKGLSDPGKIKRLRSQVQVSLEDYINDRQYDSRGRFGELLLLLPTLQSITWQMIEQIQFIKLFGMAKIDNLLQEMLLGGSPSDAPHAHHPLHPHLMQEHMGTNVIVANTMPTHLSNGQMCEWPRPRGQA----------ATPETPQPSPPGGSGSEPYKLLPGAVATIVKPLSAIPQPTITKQEVI\n",
      "\n"
     ]
    }
   ],
   "source": [
    "#converter o ficheiro xml do blastp para fasta\n",
    "blast_P41235 = open(\"blast_P41235.xml\")\n",
    "blast_records = NCBIXML.read(blast_P41235)\n",
    "ficheiro = str(\"seqs_P41235.fasta\")\n",
    "save = open(ficheiro, 'w+')\n",
    "for alignment in blast_records.alignments:\n",
    "    for hsp in alignment.hsps:\n",
    "        save.write('>' + alignment.title + '\\n' + hsp.sbjct[0:45] + '\\n')\n",
    "        print('>', alignment.title, '\\n', hsp.query)\n",
    "        print()"
   ]
  },
  {
   "cell_type": "code",
   "execution_count": 6,
   "id": "98592f36",
   "metadata": {},
   "outputs": [
    {
     "name": "stdout",
     "output_type": "stream",
     "text": [
      "Alignment with 15 rows and 45 columns\n",
      "MRLSKTLVDMDMADYSAALDPAYTTLEFENVQVLTMGNDTSPSEG ref|NP_000448.3|\n",
      "MRLSKTLVDMDMADYSAALDPAYTTLEFENVQVLTMGNDTSPSEG ref|XP_003825973.1|\n",
      "MRLSKTLVDMDMADYSAALDPAYTTLEFENVQVLTMGNDTSPSEG gb|UNG30092.1|\n",
      "MRLSKTLVDMDMADYSAALDPAYTTLEFENVQVLTMGNDTSPSEG ref|XP_003936451.1|\n",
      "MRLSKTLVDMDMADYSAALDPAYTTLEFENVQVLTMGNDTSPSEG ref|XP_004062244.2|\n",
      "MRLSKTLVDMDMADYSAALDPAYTTLEFENVQVLTMGNDTSPSEG ref|XP_032119543.1|\n",
      "MRLSKTLVDMDMADYSAALDPAYTTLEFENVQVLTMGNDTSPSEG ref|XP_010382581.1|\n",
      "MRLSKTLVDMDMADYSAALDPAYTTLEFENVQVLTMGNDTSPSEG ref|XP_011853032.1|\n",
      "MRLSKTLVDMDMADYSAALDPAYTTLEFENVQVLTMGNDTSPSEG ref|XP_021776721.1|\n",
      "MRLSKTLVDMDMADYSAALDPAYTTLEFENVQVLTMGNDTSPSEG ref|XP_011784390.1|\n",
      "MRLSKTLVDMDMADYSAALDPAYTTLEFENVQVLTMGNDTSPSEG ref|XP_017396656.1|\n",
      "MRLSKTLVDMDMADYSAALDPAYTTLEFENVQVLTMGNDTSPSEG ref|XP_035154567.1|\n",
      "MRLSKTLVDMDMADYSAALDPAYTTLEFENVQVLTMGNDTSPSEG ref|XP_032119542.1|\n",
      "MRLSKTLVDMDMADYSAALDPAYTTLEFENVQVLTMGNDTSPSEG ref|XP_004272927.1|\n",
      "MRLSKTLVDMDMADYSAALDPAYTTLEFENVQVLTMGNDTSPSEG ref|XP_012322650.1|\n"
     ]
    }
   ],
   "source": [
    "#alinhar as sequências e guardar ficheiro com extensão fasta\n",
    "def parse_align(align_file, alinhamento):\n",
    "    alignments = AlignIO.parse(align_file,format = \"fasta\")\n",
    "    for alignment in alignments:\n",
    "        print(alignment)\n",
    "    AlignIO.write(alignment, alinhamento, \"fasta\")\n",
    "parse_align(\"seqs_P41235.fasta\", \"align_P41235\")"
   ]
  },
  {
   "cell_type": "code",
   "execution_count": 7,
   "id": "aaaec7ba",
   "metadata": {},
   "outputs": [
    {
     "name": "stdout",
     "output_type": "stream",
     "text": [
      "Alignment with 15 rows and 45 columns\n",
      "MRLSKTLVDMDMADYSAALDPAYTTLEFENVQVLTMGNDTSPSEG ref|NP_000448.3|\n",
      "MRLSKTLVDMDMADYSAALDPAYTTLEFENVQVLTMGNDTSPSEG ref|XP_003825973.1|\n",
      "MRLSKTLVDMDMADYSAALDPAYTTLEFENVQVLTMGNDTSPSEG gb|UNG30092.1|\n",
      "MRLSKTLVDMDMADYSAALDPAYTTLEFENVQVLTMGNDTSPSEG ref|XP_003936451.1|\n",
      "MRLSKTLVDMDMADYSAALDPAYTTLEFENVQVLTMGNDTSPSEG ref|XP_004062244.2|\n",
      "MRLSKTLVDMDMADYSAALDPAYTTLEFENVQVLTMGNDTSPSEG ref|XP_032119543.1|\n",
      "MRLSKTLVDMDMADYSAALDPAYTTLEFENVQVLTMGNDTSPSEG ref|XP_010382581.1|\n",
      "MRLSKTLVDMDMADYSAALDPAYTTLEFENVQVLTMGNDTSPSEG ref|XP_011853032.1|\n",
      "MRLSKTLVDMDMADYSAALDPAYTTLEFENVQVLTMGNDTSPSEG ref|XP_021776721.1|\n",
      "MRLSKTLVDMDMADYSAALDPAYTTLEFENVQVLTMGNDTSPSEG ref|XP_011784390.1|\n",
      "MRLSKTLVDMDMADYSAALDPAYTTLEFENVQVLTMGNDTSPSEG ref|XP_017396656.1|\n",
      "MRLSKTLVDMDMADYSAALDPAYTTLEFENVQVLTMGNDTSPSEG ref|XP_035154567.1|\n",
      "MRLSKTLVDMDMADYSAALDPAYTTLEFENVQVLTMGNDTSPSEG ref|XP_032119542.1|\n",
      "MRLSKTLVDMDMADYSAALDPAYTTLEFENVQVLTMGNDTSPSEG ref|XP_004272927.1|\n",
      "MRLSKTLVDMDMADYSAALDPAYTTLEFENVQVLTMGNDTSPSEG ref|XP_012322650.1|\n"
     ]
    }
   ],
   "source": [
    "aln_seed = AlignIO.read(\"align_P41235\", \"fasta\")\n",
    "print(aln_seed)"
   ]
  },
  {
   "cell_type": "code",
   "execution_count": 8,
   "id": "6f39e9e7",
   "metadata": {},
   "outputs": [
    {
     "data": {
      "text/plain": [
       "1"
      ]
     },
     "execution_count": 8,
     "metadata": {},
     "output_type": "execute_result"
    }
   ],
   "source": [
    "#passar o ficheiro anterior para o formato stockholm\n",
    "stockolm = AlignIO.parse(\"align_41235\",\"fasta\")\n",
    "AlignIO.convert(\"align_P41235\",\"fasta\", \"align_results_P41235.sth\", \"stockholm\")"
   ]
  },
  {
   "cell_type": "markdown",
   "id": "ea38d27c",
   "metadata": {},
   "source": [
    "__Árvore Upgma__"
   ]
  },
  {
   "cell_type": "code",
   "execution_count": 9,
   "id": "e64ad654",
   "metadata": {},
   "outputs": [],
   "source": [
    "from Bio.Phylo.TreeConstruction import DistanceCalculator\n",
    "from Bio.Phylo.TreeConstruction import DistanceTreeConstructor\n",
    "from Bio import Phylo"
   ]
  },
  {
   "cell_type": "code",
   "execution_count": 10,
   "id": "9140c145",
   "metadata": {},
   "outputs": [],
   "source": [
    "alinhamento_P41235 = AlignIO.read(open(\"align_results_P41235.sth\"),\"stockholm\")"
   ]
  },
  {
   "cell_type": "code",
   "execution_count": 11,
   "id": "7c50ff44",
   "metadata": {},
   "outputs": [],
   "source": [
    "calculator = DistanceCalculator('blosum62')"
   ]
  },
  {
   "cell_type": "code",
   "execution_count": 12,
   "id": "ec021083",
   "metadata": {},
   "outputs": [],
   "source": [
    "dm = calculator.get_distance(alinhamento_P41235)"
   ]
  },
  {
   "cell_type": "code",
   "execution_count": 13,
   "id": "d8f10f0e",
   "metadata": {},
   "outputs": [
    {
     "name": "stdout",
     "output_type": "stream",
     "text": [
      "ref|NP_000448.3|\t0\n",
      "ref|XP_003825973.1|\t0.0\t0\n",
      "gb|UNG30092.1|\t0.0\t0.0\t0\n",
      "ref|XP_003936451.1|\t0.0\t0.0\t0.0\t0\n",
      "ref|XP_004062244.2|\t0.0\t0.0\t0.0\t0.0\t0\n",
      "ref|XP_032119543.1|\t0.0\t0.0\t0.0\t0.0\t0.0\t0\n",
      "ref|XP_010382581.1|\t0.0\t0.0\t0.0\t0.0\t0.0\t0.0\t0\n",
      "ref|XP_011853032.1|\t0.0\t0.0\t0.0\t0.0\t0.0\t0.0\t0.0\t0\n",
      "ref|XP_021776721.1|\t0.0\t0.0\t0.0\t0.0\t0.0\t0.0\t0.0\t0.0\t0\n",
      "ref|XP_011784390.1|\t0.0\t0.0\t0.0\t0.0\t0.0\t0.0\t0.0\t0.0\t0.0\t0\n",
      "ref|XP_017396656.1|\t0.0\t0.0\t0.0\t0.0\t0.0\t0.0\t0.0\t0.0\t0.0\t0.0\t0\n",
      "ref|XP_035154567.1|\t0.0\t0.0\t0.0\t0.0\t0.0\t0.0\t0.0\t0.0\t0.0\t0.0\t0.0\t0\n",
      "ref|XP_032119542.1|\t0.0\t0.0\t0.0\t0.0\t0.0\t0.0\t0.0\t0.0\t0.0\t0.0\t0.0\t0.0\t0\n",
      "ref|XP_004272927.1|\t0.0\t0.0\t0.0\t0.0\t0.0\t0.0\t0.0\t0.0\t0.0\t0.0\t0.0\t0.0\t0.0\t0\n",
      "ref|XP_012322650.1|\t0.0\t0.0\t0.0\t0.0\t0.0\t0.0\t0.0\t0.0\t0.0\t0.0\t0.0\t0.0\t0.0\t0.0\t0\n",
      "\tref|NP_000448.3|\tref|XP_003825973.1|\tgb|UNG30092.1|\tref|XP_003936451.1|\tref|XP_004062244.2|\tref|XP_032119543.1|\tref|XP_010382581.1|\tref|XP_011853032.1|\tref|XP_021776721.1|\tref|XP_011784390.1|\tref|XP_017396656.1|\tref|XP_035154567.1|\tref|XP_032119542.1|\tref|XP_004272927.1|\tref|XP_012322650.1|\n"
     ]
    }
   ],
   "source": [
    "print(dm)"
   ]
  },
  {
   "cell_type": "code",
   "execution_count": 14,
   "id": "d782b34e",
   "metadata": {},
   "outputs": [
    {
     "name": "stdout",
     "output_type": "stream",
     "text": [
      "Tree(rooted=True)\n",
      "    Clade(branch_length=0, name='Inner14')\n",
      "        Clade(name='Inner13')\n",
      "            Clade(name='Inner12')\n",
      "                Clade(name='Inner11')\n",
      "                    Clade(name='Inner10')\n",
      "                        Clade(name='Inner9')\n",
      "                            Clade(name='Inner8')\n",
      "                                Clade(name='Inner7')\n",
      "                                    Clade(name='Inner6')\n",
      "                                        Clade(name='Inner5')\n",
      "                                            Clade(name='Inner4')\n",
      "                                                Clade(name='Inner3')\n",
      "                                                    Clade(name='Inner2')\n",
      "                                                        Clade(name='Inner1')\n",
      "                                                            Clade(name='ref|XP_012322650.1|')\n",
      "                                                            Clade(name='ref|XP_004272927.1|')\n",
      "                                                        Clade(name='ref|XP_032119542.1|')\n",
      "                                                    Clade(name='ref|XP_035154567.1|')\n",
      "                                                Clade(name='ref|XP_017396656.1|')\n",
      "                                            Clade(name='ref|XP_011784390.1|')\n",
      "                                        Clade(name='ref|XP_021776721.1|')\n",
      "                                    Clade(name='ref|XP_011853032.1|')\n",
      "                                Clade(name='ref|XP_010382581.1|')\n",
      "                            Clade(name='ref|XP_032119543.1|')\n",
      "                        Clade(name='ref|XP_004062244.2|')\n",
      "                    Clade(name='ref|XP_003936451.1|')\n",
      "                Clade(name='gb|UNG30092.1|')\n",
      "            Clade(name='ref|XP_003825973.1|')\n",
      "        Clade(name='ref|NP_000448.3|')\n"
     ]
    }
   ],
   "source": [
    "constructor = DistanceTreeConstructor()\n",
    "upgmatree = constructor.upgma(dm)\n",
    "print(upgmatree)"
   ]
  },
  {
   "cell_type": "code",
   "execution_count": 15,
   "id": "6891dc26",
   "metadata": {},
   "outputs": [
    {
     "name": "stdout",
     "output_type": "stream",
     "text": [
      "Tree(rooted=False)\n",
      "    Clade(branch_length=0, name='Inner13')\n",
      "        Clade(name='Inner12')\n",
      "            Clade(name='Inner11')\n",
      "                Clade(name='Inner10')\n",
      "                    Clade(name='Inner9')\n",
      "                        Clade(name='Inner8')\n",
      "                            Clade(name='Inner7')\n",
      "                                Clade(name='Inner6')\n",
      "                                    Clade(name='Inner5')\n",
      "                                        Clade(name='Inner4')\n",
      "                                            Clade(name='Inner3')\n",
      "                                                Clade(name='Inner2')\n",
      "                                                    Clade(name='Inner1')\n",
      "                                                        Clade(name='ref|NP_000448.3|')\n",
      "                                                        Clade(name='ref|XP_003825973.1|')\n",
      "                                                    Clade(name='gb|UNG30092.1|')\n",
      "                                                Clade(name='ref|XP_003936451.1|')\n",
      "                                            Clade(name='ref|XP_004062244.2|')\n",
      "                                        Clade(name='ref|XP_032119543.1|')\n",
      "                                    Clade(name='ref|XP_010382581.1|')\n",
      "                                Clade(name='ref|XP_011853032.1|')\n",
      "                            Clade(name='ref|XP_021776721.1|')\n",
      "                        Clade(name='ref|XP_011784390.1|')\n",
      "                    Clade(name='ref|XP_017396656.1|')\n",
      "                Clade(name='ref|XP_035154567.1|')\n",
      "            Clade(name='ref|XP_032119542.1|')\n",
      "        Clade(name='ref|XP_004272927.1|')\n",
      "        Clade(name='ref|XP_012322650.1|')\n"
     ]
    }
   ],
   "source": [
    "njtree = constructor.nj(dm)\n",
    "print(njtree)"
   ]
  },
  {
   "cell_type": "code",
   "execution_count": 16,
   "id": "5de61d3d",
   "metadata": {},
   "outputs": [
    {
     "name": "stdout",
     "output_type": "stream",
     "text": [
      "                                                      ___ ref|XP_012322650.1|\n",
      "                                                  ___|\n",
      "                                              ___|   |___ ref|XP_004272927.1|\n",
      "                                             |   |\n",
      "                                          ___|   |___ ref|XP_032119542.1|\n",
      "                                         |   |\n",
      "                                      ___|   |___ ref|XP_035154567.1|\n",
      "                                     |   |\n",
      "                                  ___|   |___ ref|XP_017396656.1|\n",
      "                                 |   |\n",
      "                              ___|   |___ ref|XP_011784390.1|\n",
      "                             |   |\n",
      "                          ___|   |___ ref|XP_021776721.1|\n",
      "                         |   |\n",
      "                      ___|   |___ ref|XP_011853032.1|\n",
      "                     |   |\n",
      "                  ___|   |___ ref|XP_010382581.1|\n",
      "                 |   |\n",
      "              ___|   |___ ref|XP_032119543.1|\n",
      "             |   |\n",
      "          ___|   |___ ref|XP_004062244.2|\n",
      "         |   |\n",
      "      ___|   |___ ref|XP_003936451.1|\n",
      "     |   |\n",
      "  ___|   |___ gb|UNG30092.1|\n",
      " |   |\n",
      "_|   |___ ref|XP_003825973.1|\n",
      " |\n",
      " |___ ref|NP_000448.3|\n",
      "\n"
     ]
    }
   ],
   "source": [
    "Phylo.draw_ascii(upgmatree)"
   ]
  },
  {
   "cell_type": "code",
   "execution_count": 17,
   "id": "09a8436f",
   "metadata": {},
   "outputs": [
    {
     "name": "stdout",
     "output_type": "stream",
     "text": [
      "                                                     ____ ref|NP_000448.3|\n",
      "                                                 ___|\n",
      "                                             ___|   |____ ref|XP_003825973.1|\n",
      "                                            |   |\n",
      "                                        ____|   |___ gb|UNG30092.1|\n",
      "                                       |    |\n",
      "                                    ___|    |___ ref|XP_003936451.1|\n",
      "                                   |   |\n",
      "                                ___|   |____ ref|XP_004062244.2|\n",
      "                               |   |\n",
      "                           ____|   |___ ref|XP_032119543.1|\n",
      "                          |    |\n",
      "                       ___|    |___ ref|XP_010382581.1|\n",
      "                      |   |\n",
      "                   ___|   |____ ref|XP_011853032.1|\n",
      "                  |   |\n",
      "              ____|   |___ ref|XP_021776721.1|\n",
      "             |    |\n",
      "          ___|    |___ ref|XP_011784390.1|\n",
      "         |   |\n",
      "      ___|   |____ ref|XP_017396656.1|\n",
      "     |   |\n",
      "  ___|   |___ ref|XP_035154567.1|\n",
      " |   |\n",
      " |   |___ ref|XP_032119542.1|\n",
      "_|\n",
      " |___ ref|XP_004272927.1|\n",
      " |\n",
      " |___ ref|XP_012322650.1|\n",
      "\n"
     ]
    }
   ],
   "source": [
    "Phylo.draw_ascii(njtree)"
   ]
  }
 ],
 "metadata": {
  "kernelspec": {
   "display_name": "Python 3 (ipykernel)",
   "language": "python",
   "name": "python3"
  },
  "language_info": {
   "codemirror_mode": {
    "name": "ipython",
    "version": 3
   },
   "file_extension": ".py",
   "mimetype": "text/x-python",
   "name": "python",
   "nbconvert_exporter": "python",
   "pygments_lexer": "ipython3",
   "version": "3.9.12"
  }
 },
 "nbformat": 4,
 "nbformat_minor": 5
}
