{
 "cells": [
  {
   "cell_type": "code",
   "execution_count": 3,
   "id": "eab53a1f",
   "metadata": {},
   "outputs": [],
   "source": [
    "from Bio.Blast import NCBIWWW\n",
    "from Bio.Blast import NCBIXML\n",
    "from Bio import SeqIO\n",
    "from Bio.SeqRecord import SeqRecord\n",
    "import re"
   ]
  },
  {
   "cell_type": "code",
   "execution_count": 4,
   "id": "cdd4d079",
   "metadata": {},
   "outputs": [],
   "source": [
    "P41235 = []\n",
    "\n",
    "for i in SeqIO.parse(\"P41235.fasta.txt\",\"fasta\"):\n",
    "    nome = i.id\n",
    "    descricao = i.description\n",
    "    seq = i.seq\n",
    "    features = i.features\n",
    "    cross_references = i.dbxrefs\n",
    "    anotacoes = i.annotations\n",
    "    letter_annotations = i.letter_annotations\n",
    "    \n",
    "    id_uniprot = re.findall('\\|.*|',descricao)\n",
    "    id_uniprot = id_uniprot[0].replace('|','')"
   ]
  },
  {
   "cell_type": "code",
   "execution_count": 5,
   "id": "3ba3858e",
   "metadata": {},
   "outputs": [
    {
     "name": "stdout",
     "output_type": "stream",
     "text": [
      "Nome da proteína:  sp|P41235|HNF4A_HUMAN\n"
     ]
    }
   ],
   "source": [
    "print(\"Nome da proteína: \",nome)"
   ]
  },
  {
   "cell_type": "code",
   "execution_count": 6,
   "id": "39d7e4b2",
   "metadata": {},
   "outputs": [
    {
     "name": "stdout",
     "output_type": "stream",
     "text": [
      "Descrição da proteína:  sp|P41235|HNF4A_HUMAN Hepatocyte nuclear factor 4-alpha OS=Homo sapiens OX=9606 GN=HNF4A PE=1 SV=3\n"
     ]
    }
   ],
   "source": [
    "print(\"Descrição da proteína: \", descricao)"
   ]
  },
  {
   "cell_type": "code",
   "execution_count": 7,
   "id": "7b445ff5",
   "metadata": {},
   "outputs": [
    {
     "name": "stdout",
     "output_type": "stream",
     "text": [
      "MRLSKTLVDMDMADYSAALDPAYTTLEFENVQVLTMGNDTSPSEGTNLNAPNSLGVSALCAICGDRATGKHYGASSCDGCKGFFRRSVRKNHMYSCRFSRQCVVDKDKRNQCRYCRLKKCFRAGMKKEAVQNERDRISTRRSSYEDSSLPSINALLQAEVLSRQITSPVSGINGDIRAKKIASIADVCESMKEQLLVLVEWAKYIPAFCELPLDDQVALLRAHAGEHLLLGATKRSMVFKDVLLLGNDYIVPRHCPELAEMSRVSIRILDELVLPFQELQIDDNEYAYLKAIIFFDPDAKGLSDPGKIKRLRSQVQVSLEDYINDRQYDSRGRFGELLLLLPTLQSITWQMIEQIQFIKLFGMAKIDNLLQEMLLGGSPSDAPHAHHPLHPHLMQEHMGTNVIVANTMPTHLSNGQMCEWPRPRGQAATPETPQPSPPGGSGSEPYKLLPGAVATIVKPLSAIPQPTITKQEVI\n"
     ]
    }
   ],
   "source": [
    "print(seq)"
   ]
  },
  {
   "cell_type": "code",
   "execution_count": 8,
   "id": "9fa54625",
   "metadata": {},
   "outputs": [
    {
     "name": "stdout",
     "output_type": "stream",
     "text": [
      "[]\n"
     ]
    }
   ],
   "source": [
    "print(features)"
   ]
  },
  {
   "cell_type": "code",
   "execution_count": 9,
   "id": "ae6c0692",
   "metadata": {},
   "outputs": [
    {
     "name": "stdout",
     "output_type": "stream",
     "text": [
      "{}\n"
     ]
    }
   ],
   "source": [
    "print(anotacoes)"
   ]
  },
  {
   "cell_type": "code",
   "execution_count": 10,
   "id": "c2c35cd1",
   "metadata": {},
   "outputs": [
    {
     "name": "stdout",
     "output_type": "stream",
     "text": [
      "{}\n"
     ]
    }
   ],
   "source": [
    "print(letter_annotations)"
   ]
  },
  {
   "cell_type": "code",
   "execution_count": 11,
   "id": "6e881471",
   "metadata": {},
   "outputs": [
    {
     "name": "stdout",
     "output_type": "stream",
     "text": [
      "[SeqRecord(seq=Seq('MRLSKTLVDMDMADYSAALDPAYTTLEFENVQVLTMGNDTSPSEGTNLNAPNSL...EVI'), id='sp|P41235|HNF4A_HUMAN', name='sp|P41235|HNF4A_HUMAN', description='sp|P41235|HNF4A_HUMAN Hepatocyte nuclear factor 4-alpha OS=Homo sapiens OX=9606 GN=HNF4A PE=1 SV=3', dbxrefs=[])]\n"
     ]
    },
    {
     "data": {
      "text/plain": [
       "13"
      ]
     },
     "execution_count": 11,
     "metadata": {},
     "output_type": "execute_result"
    }
   ],
   "source": [
    "domains = list(SeqIO.parse(\"P41235.fasta.txt\",'fasta'))\n",
    "print(domains)\n",
    "#set up receiving arrays\n",
    "\n",
    "home=[]\n",
    "#num=1\n",
    "#subset data\n",
    "for record in (domains):\n",
    "    num = 0\n",
    "    domain = record.seq\n",
    "    name = record.id\n",
    "    record_d = SeqRecord(domain,'%s' % (name), '', '')\n",
    "    home.append(record_d)\n",
    "    for i in range(0, 6):\n",
    "        num= num+1\n",
    "        seq_n = record.seq[0:num]\n",
    "        seq_c = record.seq[len(record.seq)-num:len(record.seq)]\n",
    "        record_n = SeqRecord(seq_n,'%s_n_%i' % (name,num), '', '')\n",
    "        home.append(record_n)\n",
    "        record_c = SeqRecord(seq_c,'%s_c_%i' % (name,num), '', '')\n",
    "        home.append(record_c)\n",
    "SeqIO.write(home, \"domains_variants.fasta\", \"fasta\")"
   ]
  },
  {
   "cell_type": "code",
   "execution_count": 12,
   "id": "e3cc128a",
   "metadata": {},
   "outputs": [
    {
     "name": "stdout",
     "output_type": "stream",
     "text": [
      "ID: sp|P41235|HNF4A_HUMAN_n_6\n",
      "Number of features: 0\n",
      "Seq('MRLSKT')\n"
     ]
    }
   ],
   "source": [
    "print(record_n)"
   ]
  },
  {
   "cell_type": "code",
   "execution_count": 13,
   "id": "e96c44bd",
   "metadata": {},
   "outputs": [
    {
     "name": "stdout",
     "output_type": "stream",
     "text": [
      "MRLSKT\n"
     ]
    }
   ],
   "source": [
    "print(seq_n) #início da sequência codificada"
   ]
  },
  {
   "cell_type": "code",
   "execution_count": 14,
   "id": "0a067223",
   "metadata": {},
   "outputs": [
    {
     "name": "stdout",
     "output_type": "stream",
     "text": [
      "TKQEVI\n"
     ]
    }
   ],
   "source": [
    "print(seq_c) #fim da sequência codificada"
   ]
  },
  {
   "cell_type": "code",
   "execution_count": 15,
   "id": "014bf174",
   "metadata": {},
   "outputs": [
    {
     "name": "stdout",
     "output_type": "stream",
     "text": [
      "MRLSKTLVDMDMADYSAALDPAYTTLEFENVQVLTMGNDTSPSEGTNLNAPNSLGVSALCAICGDRATGKHYGASSCDGCKGFFRRSVRKNHMYSCRFSRQCVVDKDKRNQCRYCRLKKCFRAGMKKEAVQNERDRISTRRSSYEDSSLPSINALLQAEVLSRQITSPVSGINGDIRAKKIASIADVCESMKEQLLVLVEWAKYIPAFCELPLDDQVALLRAHAGEHLLLGATKRSMVFKDVLLLGNDYIVPRHCPELAEMSRVSIRILDELVLPFQELQIDDNEYAYLKAIIFFDPDAKGLSDPGKIKRLRSQVQVSLEDYINDRQYDSRGRFGELLLLLPTLQSITWQMIEQIQFIKLFGMAKIDNLLQEMLLGGSPSDAPHAHHPLHPHLMQEHMGTNVIVANTMPTHLSNGQMCEWPRPRGQAATPETPQPSPPGGSGSEPYKLLPGAVATIVKPLSAIPQPTITKQEVI\n"
     ]
    }
   ],
   "source": [
    "print(record.seq) #sequência codificada"
   ]
  },
  {
   "cell_type": "code",
   "execution_count": 16,
   "id": "9f9689dd",
   "metadata": {},
   "outputs": [
    {
     "data": {
      "text/plain": [
       "474"
      ]
     },
     "execution_count": 16,
     "metadata": {},
     "output_type": "execute_result"
    }
   ],
   "source": [
    "len(record.seq) #tamanho da sequência codificada"
   ]
  }
 ],
 "metadata": {
  "kernelspec": {
   "display_name": "Python 3 (ipykernel)",
   "language": "python",
   "name": "python3"
  },
  "language_info": {
   "codemirror_mode": {
    "name": "ipython",
    "version": 3
   },
   "file_extension": ".py",
   "mimetype": "text/x-python",
   "name": "python",
   "nbconvert_exporter": "python",
   "pygments_lexer": "ipython3",
   "version": "3.9.12"
  }
 },
 "nbformat": 4,
 "nbformat_minor": 5
}
