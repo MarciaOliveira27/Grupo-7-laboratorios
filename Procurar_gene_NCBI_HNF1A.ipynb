{
 "cells": [
  {
   "cell_type": "markdown",
   "id": "42f6b5a8",
   "metadata": {},
   "source": [
    "__Procurar gene na NCBI__"
   ]
  },
  {
   "cell_type": "code",
   "execution_count": 4,
   "id": "34d14bef",
   "metadata": {},
   "outputs": [],
   "source": [
    "from Bio import SeqIO"
   ]
  },
  {
   "cell_type": "code",
   "execution_count": 5,
   "id": "9fa4f349",
   "metadata": {},
   "outputs": [],
   "source": [
    "from Bio import Entrez"
   ]
  },
  {
   "cell_type": "code",
   "execution_count": 6,
   "id": "08bd37a5",
   "metadata": {},
   "outputs": [],
   "source": [
    "Entrez.email = \"mariana.rochinha.bragues99@gmail.com\""
   ]
  },
  {
   "cell_type": "code",
   "execution_count": 7,
   "id": "77a8af0f",
   "metadata": {},
   "outputs": [],
   "source": [
    "Entrez.email = \"marcia27999@gmail.com\""
   ]
  },
  {
   "cell_type": "code",
   "execution_count": 8,
   "id": "66b140df",
   "metadata": {},
   "outputs": [
    {
     "name": "stdout",
     "output_type": "stream",
     "text": [
      "dict_keys(['DbList'])\n"
     ]
    }
   ],
   "source": [
    "handle = Entrez.einfo()\n",
    "rec = Entrez.read(handle)\n",
    "handle.close()\n",
    "print(rec.keys())"
   ]
  },
  {
   "cell_type": "code",
   "execution_count": 9,
   "id": "d8900926",
   "metadata": {},
   "outputs": [
    {
     "data": {
      "text/plain": [
       "['pubmed', 'protein', 'nuccore', 'ipg', 'nucleotide', 'structure', 'genome', 'annotinfo', 'assembly', 'bioproject', 'biosample', 'blastdbinfo', 'books', 'cdd', 'clinvar', 'gap', 'gapplus', 'grasp', 'dbvar', 'gene', 'gds', 'geoprofiles', 'homologene', 'medgen', 'mesh', 'nlmcatalog', 'omim', 'orgtrack', 'pmc', 'popset', 'proteinclusters', 'pcassay', 'protfam', 'pccompound', 'pcsubstance', 'seqannot', 'snp', 'sra', 'taxonomy', 'biocollections', 'gtr']"
      ]
     },
     "execution_count": 9,
     "metadata": {},
     "output_type": "execute_result"
    }
   ],
   "source": [
    "rec['DbList']"
   ]
  },
  {
   "cell_type": "code",
   "execution_count": 25,
   "id": "5841f051",
   "metadata": {},
   "outputs": [
    {
     "data": {
      "text/plain": [
       "'1'"
      ]
     },
     "execution_count": 25,
     "metadata": {},
     "output_type": "execute_result"
    }
   ],
   "source": [
    "handle = Entrez.esearch(db=\"gene\", term='HNF1A[Gene Name] AND \"Homo sapiens\"[Organism]')\n",
    "rec_list = Entrez.read(handle)\n",
    "handle.close()\n",
    "rec_list['Count'] #número de resultados de pesquisa"
   ]
  },
  {
   "cell_type": "code",
   "execution_count": 22,
   "id": "52cd3e2c",
   "metadata": {},
   "outputs": [
    {
     "data": {
      "text/plain": [
       "['6927']"
      ]
     },
     "execution_count": 22,
     "metadata": {},
     "output_type": "execute_result"
    }
   ],
   "source": [
    "rec_list['IdList']    #vai buscar o ID do gene "
   ]
  },
  {
   "cell_type": "code",
   "execution_count": 39,
   "id": "23871410",
   "metadata": {},
   "outputs": [],
   "source": [
    "#Pesquisar artigos sobre HNF1A\n",
    "handle = Entrez.esearch(db=\"pubmed\", sort='relevance', term='HNF1A')\n",
    "record = Entrez.read(handle)\n",
    "lista = record[\"IdList\"]"
   ]
  },
  {
   "cell_type": "code",
   "execution_count": 45,
   "id": "6ae77bcc",
   "metadata": {},
   "outputs": [
    {
     "name": "stdout",
     "output_type": "stream",
     "text": [
      "['31517624', '30185552', '35619319', '35328643', '33752475', '35299962', '35673428', '33990627', '34234870', '34772911', '33459938', '32395877', '35836869', '32706998', '34729750', '33755848', '35412067', '31754975', '32684311', '28865121']\n"
     ]
    }
   ],
   "source": [
    "len(lista)\n",
    "\n",
    "print(lista)"
   ]
  },
  {
   "cell_type": "code",
   "execution_count": 46,
   "id": "5ff72c39",
   "metadata": {},
   "outputs": [],
   "source": [
    "#corresponder os records e extrair informação\n",
    "from Bio import Medline\n",
    "handle = Entrez.efetch(db='pubmed', id=lista, rettype='medline')"
   ]
  },
  {
   "cell_type": "code",
   "execution_count": 47,
   "id": "5cf2a920",
   "metadata": {},
   "outputs": [],
   "source": [
    "records = Medline.parse(handle)"
   ]
  },
  {
   "cell_type": "code",
   "execution_count": 48,
   "id": "5b062dd7",
   "metadata": {},
   "outputs": [],
   "source": [
    "records = list(records) #para guardar os records "
   ]
  },
  {
   "cell_type": "code",
   "execution_count": 49,
   "id": "f3302d9b",
   "metadata": {},
   "outputs": [
    {
     "name": "stdout",
     "output_type": "stream",
     "text": [
      "title: Novel insights into genetics and clinics of the HNF1A-MODY.\n",
      "authors: ['Valkovicova T', 'Skopkova M', 'Stanik J', 'Gasperikova D']\n",
      "source: Endocr Regul. 2019 Apr 1;53(2):110-134. doi: 10.2478/enr-2019-0013.\n",
      "\n",
      "title: EGR1-Mediated Transcription of lncRNA-HNF1A-AS1 Promotes Cell-Cycle Progression in Gastric Cancer.\n",
      "authors: ['Liu HT', 'Liu S', 'Liu L', 'Ma RR', 'Gao P']\n",
      "source: Cancer Res. 2018 Oct 15;78(20):5877-5890. doi: 10.1158/0008-5472.CAN-18-1011. Epub 2018 Sep 5.\n",
      "\n",
      "title: HNF1A-AS1: A Tumor-associated Long Non-coding RNA.\n",
      "authors: ['Liu Y', 'Zhao F', 'Tan F', 'Tang L', 'Du Z', 'Mou J', 'Zhou G', 'Yuan C']\n",
      "source: Curr Pharm Des. 2022;28(21):1720-1729. doi: 10.2174/1381612828666220520113846.\n",
      "\n",
      "title: HNF1A Mutations and Beta Cell Dysfunction in Diabetes.\n",
      "authors: ['Miyachi Y', 'Miyazawa T', 'Ogawa Y']\n",
      "source: Int J Mol Sci. 2022 Mar 16;23(6):3222. doi: 10.3390/ijms23063222.\n",
      "\n",
      "title: Integrated bioinformatic analysis of HNF1A in human cancers.\n",
      "authors: ['Zhang E', 'Huang X', 'He J']\n",
      "source: J Int Med Res. 2021 Mar;49(3):300060521997326. doi: 10.1177/0300060521997326.\n",
      "\n",
      "title: HNF1A：From Monogenic Diabetes to Type 2 Diabetes and Gestational Diabetes Mellitus.\n",
      "authors: ['Li LM', 'Jiang BG', 'Sun LL']\n",
      "source: Front Endocrinol (Lausanne). 2022 Mar 1;13:829565. doi: 10.3389/fendo.2022.829565. eCollection 2022.\n",
      "\n",
      "title: Meta-analysis of HNF1A-MODY3 variants among human population.\n",
      "authors: ['Behl R', 'Malhotra N', 'Joshi V', 'Poojary S', 'Middha S', 'Gupta S', 'Olaonipekun AB', 'Okoye I', 'Wagh B', 'Biswas D', 'Aginah C', 'Saini B', 'Nwanya C', 'Ugwu S', 'Anthony MM', 'Fang XS', 'Foluso O', 'Ibrahim AT']\n",
      "source: J Diabetes Metab Disord. 2022 Feb 2;21(1):1037-1046. doi: 10.1007/s40200-022-00975-8. eCollection 2022 Jun.\n",
      "\n",
      "title: HNF1A regulates colorectal cancer progression and drug resistance as a downstream of POU5F1.\n",
      "authors: ['Fujino S', 'Miyoshi N', 'Ito A', 'Yasui M', 'Matsuda C', 'Ohue M', 'Uemura M', 'Mizushima T', 'Doki Y', 'Eguchi H']\n",
      "source: Sci Rep. 2021 May 14;11(1):10363. doi: 10.1038/s41598-021-89126-2.\n",
      "\n",
      "title: Elevated HNF1A expression promotes radiation-resistance via driving PI3K/AKT signaling pathway in esophageal squamous cell carcinoma cells.\n",
      "authors: ['Zou N', 'Zhang X', 'Li S', 'Li Y', 'Zhao Y', 'Yang X', 'Zhu S']\n",
      "source: J Cancer. 2021 Jun 16;12(16):5013-5024. doi: 10.7150/jca.58023. eCollection 2021.\n",
      "\n",
      "title: EGR1 modulated LncRNA HNF1A-AS1 drives glioblastoma progression via miR-22-3p/ENO1 axis.\n",
      "authors: ['Ma C', 'Wang H', 'Zong G', 'He J', 'Wang Y', 'Yang F', 'Yang Z', 'Bian E', 'Zhao B']\n",
      "source: Cell Death Discov. 2021 Nov 12;7(1):350. doi: 10.1038/s41420-021-00734-3.\n",
      "\n",
      "title: HNF1A-MODY Mutations in Nuclear Localization Signal Impair HNF1A-Import Receptor KPNA6 Interactions.\n",
      "authors: ['Fareed FMA', 'Korulu S', 'Ozbil M', 'Capan OY']\n",
      "source: Protein J. 2021 Aug;40(4):512-521. doi: 10.1007/s10930-020-09959-0. Epub 2021 Jan 18.\n",
      "\n",
      "title: Altered cortisol metabolism in individuals with HNF1A-MODY.\n",
      "authors: ['Juszczak A', 'Gilligan LC', 'Hughes BA', 'Hassan-Smith ZK', 'McCarthy MI', 'Arlt W', 'Tomlinson JW', 'Owen KR']\n",
      "source: Clin Endocrinol (Oxf). 2020 Sep;93(3):269-279. doi: 10.1111/cen.14218. Epub 2020 Jun 5.\n",
      "\n",
      "title: Regulatory mechanisms and potential medical applications of HNF1A-AS1 in cancers.\n",
      "authors: ['Zhang Y', 'Shi J', 'Luo J', 'Liu C', 'Zhu L']\n",
      "source: Am J Transl Res. 2022 Jun 15;14(6):4154-4168. eCollection 2022.\n",
      "\n",
      "title: Long Noncoding RNA HNF1A-AS1 Regulates Osteosarcoma Advancement Through Modulating the miR-32-5p/HMGB1 Axis.\n",
      "authors: ['Lou P', 'Ding T', 'Zhan X']\n",
      "source: Cancer Biother Radiopharm. 2021 May;36(4):371-381. doi: 10.1089/cbr.2019.3486. Epub 2020 Jul 20.\n",
      "\n",
      "title: [HNF1A-AS1 inhibits proliferation, migration and invasion of IL-6-induced hemangioma endothelial cells by targeting miR-363-3p].\n",
      "authors: ['Xu W', 'Tao S', 'Zhu X']\n",
      "source: Zhonghua Yi Xue Yi Chuan Xue Za Zhi. 2021 Nov 10;38(11):1091-1096. doi: 10.3760/cma.j.cn511374-20200830-00633.\n",
      "\n",
      "title: The HNF1A-AS1/miR-92a-3p axis affects the radiosensitivity of non-small cell lung cancer by competitively regulating the JNK pathway.\n",
      "authors: ['Wang Z', 'Liu L', 'Du Y', 'Mi Y', 'Wang L']\n",
      "source: Cell Biol Toxicol. 2021 Oct;37(5):715-729. doi: 10.1007/s10565-021-09595-z. Epub 2021 Mar 23.\n",
      "\n",
      "title: Where to for precision treatment of HNF1A-MODY?\n",
      "authors: ['Bonner C', 'Saponaro C']\n",
      "source: Diabetologia. 2022 Nov;65(11):1825-1829. doi: 10.1007/s00125-022-05696-4. Epub 2022 Apr 12.\n",
      "\n",
      "title: Primary hepatocellular adenoma due to biallelic HNF1A mutations and its co-occurrence with MODY 3: case-report and review of the literature.\n",
      "authors: ['Fu J', 'Wang T', 'Zhai X', 'Xiao X']\n",
      "source: Endocrine. 2020 Mar;67(3):544-551. doi: 10.1007/s12020-019-02138-x. Epub 2019 Nov 21.\n",
      "\n",
      "title: Defective functions of HNF1A variants on BCL2L1 transactivation and beta-cell growth.\n",
      "authors: ['Sujjitjoon J', 'Charoensuk C', 'Thanyaphon T', 'Kooptiwut S', 'Thamtarana PJ', 'Tangjittipokin W', 'Chongjaroen N', 'Chanprasert C', 'Abubakar Z', 'Lapbenjakul S', 'Yenchitsomanus PT', 'Plengvidhya N']\n",
      "source: Biochem Biophys Res Commun. 2020 Aug 27;529(3):826-833. doi: 10.1016/j.bbrc.2020.05.155. Epub 2020 Jul 17.\n",
      "\n",
      "title: HNF1A/CASC2 regulates pancreatic cancer cell proliferation through PTEN/Akt signaling.\n",
      "authors: ['Yu Y', 'Liang S', 'Zhou Y', 'Li S', 'Li Y', 'Liao W']\n",
      "source: J Cell Biochem. 2019 Mar;120(3):2816-2827. doi: 10.1002/jcb.26395. Epub 2018 Nov 30.\n",
      "\n"
     ]
    }
   ],
   "source": [
    "for record in records:\n",
    "    print(\"title:\", record.get(\"TI\",\"?\"))\n",
    "    print(\"authors:\", record.get(\"AU\",\"?\"))\n",
    "    print(\"source:\", record.get(\"SO\",\"?\"))\n",
    "    print('')"
   ]
  },
  {
   "cell_type": "code",
   "execution_count": 50,
   "id": "56b64b15",
   "metadata": {},
   "outputs": [
    {
     "name": "stdout",
     "output_type": "stream",
     "text": [
      "dict_keys(['PMID', 'OWN', 'STAT', 'DCOM', 'LR', 'IS', 'VI', 'IP', 'DP', 'TI', 'PG', 'LID', 'AB', 'FAU', 'AU', 'AD', 'LA', 'PT', 'PL', 'TA', 'JT', 'JID', 'RN', 'SB', 'MH', 'OTO', 'OT', 'EDAT', 'MHDA', 'CRDT', 'PHST', 'AID', 'PST', 'SO'])\n"
     ]
    }
   ],
   "source": [
    "print(records[0].keys())"
   ]
  },
  {
   "cell_type": "code",
   "execution_count": 55,
   "id": "babad84c",
   "metadata": {},
   "outputs": [
    {
     "name": "stdout",
     "output_type": "stream",
     "text": [
      "1685\n"
     ]
    }
   ],
   "source": [
    "handle = Entrez.egquery(term='HNF1A')\n",
    "record = Entrez.read(handle)\n",
    "for row in record['eGQueryResult']:\n",
    "    if row['DbName']=='nuccore':\n",
    "        print(row['Count'])"
   ]
  },
  {
   "cell_type": "code",
   "execution_count": 56,
   "id": "9f05816c",
   "metadata": {},
   "outputs": [
    {
     "data": {
      "text/plain": [
       "['2244986563', '1779541912', '1677538665', '2386103264', '2035818967', '2035277501', '2035271612', '1677531465', '1677530663', '1677530516', '1677501748', '1677499933', '1677499581', '1677499339', '2374598748', '1519314569', '260593720', '2319497948', '1519315817', '1675013307']"
      ]
     },
     "execution_count": 56,
     "metadata": {},
     "output_type": "execute_result"
    }
   ],
   "source": [
    "#GENBANK identifiers\n",
    "handle = Entrez.esearch(db='nuccore', term=\"HNF1A\")\n",
    "record = Entrez.read(handle)\n",
    "gi_list = record[\"IdList\"]\n",
    "gi_list"
   ]
  },
  {
   "cell_type": "code",
   "execution_count": 61,
   "id": "c3d750bb",
   "metadata": {},
   "outputs": [],
   "source": [
    "gi_str = ','.join(gi_list)\n",
    "handle = Entrez.efetch(db='nuccore', id=gi_str, rettype = 'gb', retmode='text', retmax=1)\n",
    "#para fazer o download dos records GenBank (passar para uma lista que depois é convertida)"
   ]
  },
  {
   "cell_type": "code",
   "execution_count": 62,
   "id": "ec5b9d88",
   "metadata": {},
   "outputs": [
    {
     "name": "stdout",
     "output_type": "stream",
     "text": [
      "LOCUS       NM_001406915            3250 bp    mRNA    linear   PRI 14-DEC-2022\n",
      "DEFINITION  Homo sapiens HNF1 homeobox A (HNF1A), transcript variant 3, mRNA.\n",
      "ACCESSION   NM_001406915\n",
      "VERSION     NM_001406915.1\n",
      "KEYWORDS    RefSeq.\n",
      "SOURCE      Homo sapiens (human)\n",
      "  ORGANISM  Homo sapiens\n",
      "            Eukaryota; Metazoa; Chordata; Craniata; Vertebrata; Euteleostomi;\n",
      "            Mammalia; Eutheria; Euarchontoglires; Primates; Haplorrhini;\n",
      "            Catarrhini; Hominidae; Homo.\n",
      "REFERENCE   1  (bases 1 to 3250)\n",
      "  AUTHORS   Argemi J, Kedia K, Gritsenko MA, Clemente-Sanchez A, Asghar A,\n",
      "            Herranz JM, Liu ZX, Atkinson SR, Smith RD, Norden-Krichmar TM, Day\n",
      "            LZ, Stolz A, Tayek JA, Bataller R, Morgan TR and Jacobs JM.\n",
      "  CONSRTM   Southern California Alcoholic Hepatitis Consortium and the InTeam\n",
      "            Consortium\n",
      "  TITLE     Integrated Transcriptomic and Proteomic Analysis Identifies Plasma\n",
      "            Biomarkers of Hepatocellular Failure in Alcohol-Associated\n",
      "            Hepatitis\n",
      "  JOURNAL   Am J Pathol 192 (12), 1658-1669 (2022)\n",
      "   PUBMED   36243044\n",
      "  REMARK    GeneRIF: Integrated Transcriptomic and Proteomic Analysis\n",
      "            Identifies Plasma Biomarkers of Hepatocellular Failure in\n",
      "            Alcohol-Associated Hepatitis.\n",
      "REFERENCE   2  (bases 1 to 3250)\n",
      "  AUTHORS   Bahabayi A, Zeng X, Tuerhanbayi B, Zhang Y, Hasimu A, Guo S, Liu T,\n",
      "            Zheng M, Alimu X and Liu C.\n",
      "  TITLE     Changes in circulating TCF1- and GARP-associated regulatory T cell\n",
      "            subsets reflect the clinical status of patients with chronic HBV\n",
      "            infection\n",
      "  JOURNAL   Med Microbiol Immunol 211 (5-6), 237-247 (2022)\n",
      "   PUBMED   35953613\n",
      "  REMARK    GeneRIF: Changes in circulating TCF1- and GARP-associated\n",
      "            regulatory T cell subsets reflect the clinical status of patients\n",
      "            with chronic HBV infection.\n",
      "REFERENCE   3  (bases 1 to 3250)\n",
      "  AUTHORS   Beucher A, Miguel-Escalada I, Balboa D, De Vas MG, Maestro MA,\n",
      "            Garcia-Hurtado J, Bernal A, Gonzalez-Franco R, Vargiu P, Heyn H,\n",
      "            Ravassard P, Ortega S and Ferrer J.\n",
      "  TITLE     The HASTER lncRNA promoter is a cis-acting transcriptional\n",
      "            stabilizer of HNF1A\n",
      "  JOURNAL   Nat Cell Biol 24 (10), 1528-1540 (2022)\n",
      "   PUBMED   36202974\n",
      "  REMARK    GeneRIF: The HASTER lncRNA promoter is a cis-acting transcriptional\n",
      "            stabilizer of HNF1A.\n",
      "REFERENCE   4  (bases 1 to 3250)\n",
      "  AUTHORS   Liang T, Wang X, Liu Y, Ai H, Wang Q, Wang X, Wei X, Song Y and Yin\n",
      "            Q.\n",
      "  TITLE     Decreased TCF1 and BCL11B expression predicts poor prognosis for\n",
      "            patients with chronic lymphocytic leukemia\n",
      "  JOURNAL   Front Immunol 13, 985280 (2022)\n",
      "   PUBMED   36211334\n",
      "  REMARK    GeneRIF: Decreased TCF1 and BCL11B expression predicts poor\n",
      "            prognosis for patients with chronic lymphocytic leukemia.\n",
      "            Publication Status: Online-Only\n",
      "REFERENCE   5  (bases 1 to 3250)\n",
      "  AUTHORS   Lau HH, Ng NHJ, Loo LSW, Jasmen JB and Teo AKK.\n",
      "  TITLE     The molecular functions of hepatocyte nuclear factors - In and\n",
      "            beyond the liver\n",
      "  JOURNAL   J Hepatol 68 (5), 1033-1048 (2018)\n",
      "   PUBMED   29175243\n",
      "  REMARK    Review article\n",
      "REFERENCE   6  (bases 1 to 3250)\n",
      "  AUTHORS   Anik,A., Catli,G., Abaci,A. and Bober,E.\n",
      "  TITLE     Maturity-onset diabetes of the young (MODY): an update\n",
      "  JOURNAL   J Pediatr Endocrinol Metab 28 (3-4), 251-263 (2015)\n",
      "   PUBMED   25581748\n",
      "  REMARK    Review article\n",
      "REFERENCE   7  (bases 1 to 3250)\n",
      "  AUTHORS   Naylor,R., Knight Johnson,A. and del Gaudio,D.\n",
      "  TITLE     Maturity-Onset Diabetes of the Young Overview\n",
      "  JOURNAL   (in) Adam MP, Everman DB, Mirzaa GM, Pagon RA, Wallace SE, Bean\n",
      "            LJH, Gripp KW and Amemiya A (Eds.);\n",
      "            GENEREVIEWS(R);\n",
      "            (1993)\n",
      "   PUBMED   29792621\n",
      "REFERENCE   8  (bases 1 to 3250)\n",
      "  AUTHORS   Szpirer C, Riviere M, Cortese R, Nakamura T, Islam MQ, Levan G and\n",
      "            Szpirer J.\n",
      "  TITLE     Chromosomal localization in man and rat of the genes encoding the\n",
      "            liver-enriched transcription factors C/EBP, DBP, and HNF1/LFB-1\n",
      "            (CEBP, DBP, and transcription factor 1, TCF1, respectively) and of\n",
      "            the hepatocyte growth factor/scatter factor gene (HGF)\n",
      "  JOURNAL   Genomics 13 (2), 293-300 (1992)\n",
      "   PUBMED   1535333\n",
      "REFERENCE   9  (bases 1 to 3250)\n",
      "  AUTHORS   Bach I, Mattei MG, Cereghini S and Yaniv M.\n",
      "  TITLE     Two members of an HNF1 homeoprotein family are expressed in human\n",
      "            liver\n",
      "  JOURNAL   Nucleic Acids Res 19 (13), 3553-3559 (1991)\n",
      "   PUBMED   1677179\n",
      "REFERENCE   10 (bases 1 to 3250)\n",
      "  AUTHORS   Bach I, Galcheva-Gargova Z, Mattei MG, Simon-Chazottes D, Guenet\n",
      "            JL, Cereghini S and Yaniv M.\n",
      "  TITLE     Cloning of human hepatic nuclear factor 1 (HNF1) and chromosomal\n",
      "            localization of its gene in man and mouse\n",
      "  JOURNAL   Genomics 8 (1), 155-164 (1990)\n",
      "   PUBMED   1707031\n",
      "COMMENT     REVIEWED REFSEQ: This record has been curated by NCBI staff. The\n",
      "            reference sequence was derived from AC079602.15.\n",
      "            \n",
      "            Summary: The protein encoded by this gene is a transcription factor\n",
      "            required for the expression of several liver-specific genes. The\n",
      "            encoded protein functions as a homodimer and binds to the inverted\n",
      "            palindrome 5'-GTTAATNATTAAC-3'. Defects in this gene are a cause of\n",
      "            maturity onset diabetes of the young type 3 (MODY3) and also can\n",
      "            result in the appearance of hepatic adenomas. Alternative splicing\n",
      "            results in multiple transcript variants encoding different\n",
      "            isoforms. [provided by RefSeq, Apr 2015].\n",
      "            \n",
      "            Publication Note:  This RefSeq record includes a subset of the\n",
      "            publications that are available for this gene. Please see the Gene\n",
      "            record to access additional publications.\n",
      "            \n",
      "            ##Evidence-Data-START##\n",
      "            Transcript exon combination :: SRR14038192.1201782.1 [ECO:0000332]\n",
      "            RNAseq introns              :: partial sample support SAMEA1968540,\n",
      "                                           SAMEA1970526 [ECO:0000350]\n",
      "            ##Evidence-Data-END##\n",
      "PRIMARY     REFSEQ_SPAN         PRIMARY_IDENTIFIER PRIMARY_SPAN        COMP\n",
      "            1-552               AC079602.15        159851-160402       c\n",
      "            553-752             AC079602.15        149913-150112       c\n",
      "            753-939             AC079602.15        145239-145425       c\n",
      "            940-1181            AC079602.15        144540-144781       c\n",
      "            1182-1333           AC079602.15        142532-142683       c\n",
      "            1334-1535           AC079602.15        142203-142404       c\n",
      "            1536-1657           AC079602.15        139556-139677       c\n",
      "            1658-1802           AC079602.15        139318-139462       c\n",
      "            1803-3250           AC079602.15        136433-137880       c\n",
      "FEATURES             Location/Qualifiers\n",
      "     source          1..3250\n",
      "                     /organism=\"Homo sapiens\"\n",
      "                     /mol_type=\"mRNA\"\n",
      "                     /db_xref=\"taxon:9606\"\n",
      "                     /chromosome=\"12\"\n",
      "                     /map=\"12q24.31\"\n",
      "     gene            1..3250\n",
      "                     /gene=\"HNF1A\"\n",
      "                     /gene_synonym=\"HNF-1-alpha; HNF-1A; HNF1; HNF1alpha;\n",
      "                     HNF4A; IDDM20; LFB1; MODY3; TCF-1; TCF1\"\n",
      "                     /note=\"HNF1 homeobox A\"\n",
      "                     /db_xref=\"GeneID:6927\"\n",
      "                     /db_xref=\"HGNC:HGNC:11621\"\n",
      "                     /db_xref=\"MIM:142410\"\n",
      "     exon            1..552\n",
      "                     /gene=\"HNF1A\"\n",
      "                     /gene_synonym=\"HNF-1-alpha; HNF-1A; HNF1; HNF1alpha;\n",
      "                     HNF4A; IDDM20; LFB1; MODY3; TCF-1; TCF1\"\n",
      "                     /inference=\"alignment:Splign:2.1.0\"\n",
      "     misc_feature    11..13\n",
      "                     /gene=\"HNF1A\"\n",
      "                     /gene_synonym=\"HNF-1-alpha; HNF-1A; HNF1; HNF1alpha;\n",
      "                     HNF4A; IDDM20; LFB1; MODY3; TCF-1; TCF1\"\n",
      "                     /note=\"upstream in-frame stop codon\"\n",
      "     CDS             227..1930\n",
      "                     /gene=\"HNF1A\"\n",
      "                     /gene_synonym=\"HNF-1-alpha; HNF-1A; HNF1; HNF1alpha;\n",
      "                     HNF4A; IDDM20; LFB1; MODY3; TCF-1; TCF1\"\n",
      "                     /note=\"isoform 3 is encoded by transcript variant 3;\n",
      "                     hepatic nuclear factor 1; albumin proximal factor;\n",
      "                     hepatocyte nuclear factor 1-alpha; transcription factor 1,\n",
      "                     hepatic; interferon production regulator factor;\n",
      "                     liver-specific transcription factor LF-B1\"\n",
      "                     /codon_start=1\n",
      "                     /product=\"hepatocyte nuclear factor 1-alpha isoform 3\"\n",
      "                     /protein_id=\"NP_001393844.1\"\n",
      "                     /db_xref=\"GeneID:6927\"\n",
      "                     /db_xref=\"HGNC:HGNC:11621\"\n",
      "                     /db_xref=\"MIM:142410\"\n",
      "                     /translation=\"MVSKLSQLQTELLAALLESGLSKEALIQALGEPGPYLLAGEGPL\n",
      "                     DKGESCGGGRGELAELPNGLGETRGSEDETDDDGEDFTPPILKELENLSPEEAAHQKA\n",
      "                     VVETLLQEDPWRVAKMVKSYLQQHNIPQREVVDTTGLNQSHLSQHLNKGTPMKTQKRA\n",
      "                     ALYTWYVRKQREVAQQFTHAGQGGLIEEPTGDELPTKKGRRNRFKWGPASQQILFQAY\n",
      "                     ERQKNPSKEERETLVEECNRAECIQRGVSPSQAQGLGSNLVTEVRVYNWFANRRKEEA\n",
      "                     FRHKLAMDTYSGPPPGPGPGPALPAHSSPGLPPPALSPSKVHGVRYGQPATSETAEVP\n",
      "                     SSSGGPLVTVSTPLHQVSPTGLEPSHSLLSTEAKLVSAAGGPLPPVSTLTALHSLEQT\n",
      "                     SPGLNQQPQNLIMASLPGVMTIGPGEPASLGPTFTNTGASTLVIALYSHKPEVAQYTH\n",
      "                     TGLLPQTMLITDTTNLSALASLTPTKQVFTSDTEASSESGLHTPASQATTLHVPSQDP\n",
      "                     ASIQHLQPAHRLSASPTVSSSSLVLYQSSDSSNGQSHLLPSNHSVIETFISTQMASSS\n",
      "                     Q\"\n",
      "     exon            553..752\n",
      "                     /gene=\"HNF1A\"\n",
      "                     /gene_synonym=\"HNF-1-alpha; HNF-1A; HNF1; HNF1alpha;\n",
      "                     HNF4A; IDDM20; LFB1; MODY3; TCF-1; TCF1\"\n",
      "                     /inference=\"alignment:Splign:2.1.0\"\n",
      "     exon            753..939\n",
      "                     /gene=\"HNF1A\"\n",
      "                     /gene_synonym=\"HNF-1-alpha; HNF-1A; HNF1; HNF1alpha;\n",
      "                     HNF4A; IDDM20; LFB1; MODY3; TCF-1; TCF1\"\n",
      "                     /inference=\"alignment:Splign:2.1.0\"\n",
      "     exon            940..1181\n",
      "                     /gene=\"HNF1A\"\n",
      "                     /gene_synonym=\"HNF-1-alpha; HNF-1A; HNF1; HNF1alpha;\n",
      "                     HNF4A; IDDM20; LFB1; MODY3; TCF-1; TCF1\"\n",
      "                     /inference=\"alignment:Splign:2.1.0\"\n",
      "     exon            1182..1333\n",
      "                     /gene=\"HNF1A\"\n",
      "                     /gene_synonym=\"HNF-1-alpha; HNF-1A; HNF1; HNF1alpha;\n",
      "                     HNF4A; IDDM20; LFB1; MODY3; TCF-1; TCF1\"\n",
      "                     /inference=\"alignment:Splign:2.1.0\"\n",
      "     exon            1334..1535\n",
      "                     /gene=\"HNF1A\"\n",
      "                     /gene_synonym=\"HNF-1-alpha; HNF-1A; HNF1; HNF1alpha;\n",
      "                     HNF4A; IDDM20; LFB1; MODY3; TCF-1; TCF1\"\n",
      "                     /inference=\"alignment:Splign:2.1.0\"\n",
      "     exon            1536..1657\n",
      "                     /gene=\"HNF1A\"\n",
      "                     /gene_synonym=\"HNF-1-alpha; HNF-1A; HNF1; HNF1alpha;\n",
      "                     HNF4A; IDDM20; LFB1; MODY3; TCF-1; TCF1\"\n",
      "                     /inference=\"alignment:Splign:2.1.0\"\n",
      "     exon            1658..1802\n",
      "                     /gene=\"HNF1A\"\n",
      "                     /gene_synonym=\"HNF-1-alpha; HNF-1A; HNF1; HNF1alpha;\n",
      "                     HNF4A; IDDM20; LFB1; MODY3; TCF-1; TCF1\"\n",
      "                     /inference=\"alignment:Splign:2.1.0\"\n",
      "     exon            1803..3250\n",
      "                     /gene=\"HNF1A\"\n",
      "                     /gene_synonym=\"HNF-1-alpha; HNF-1A; HNF1; HNF1alpha;\n",
      "                     HNF4A; IDDM20; LFB1; MODY3; TCF-1; TCF1\"\n",
      "                     /inference=\"alignment:Splign:2.1.0\"\n",
      "     regulatory      3222..3227\n",
      "                     /regulatory_class=\"polyA_signal_sequence\"\n",
      "                     /gene=\"HNF1A\"\n",
      "                     /gene_synonym=\"HNF-1-alpha; HNF-1A; HNF1; HNF1alpha;\n",
      "                     HNF4A; IDDM20; LFB1; MODY3; TCF-1; TCF1\"\n",
      "                     /note=\"hexamer: AGTAAA\"\n",
      "     polyA_site      3250\n",
      "                     /gene=\"HNF1A\"\n",
      "                     /gene_synonym=\"HNF-1-alpha; HNF-1A; HNF1; HNF1alpha;\n",
      "                     HNF4A; IDDM20; LFB1; MODY3; TCF-1; TCF1\"\n",
      "                     /note=\"major polyA site\"\n",
      "ORIGIN      \n",
      "        1 agctccaatg taaacagaac aggcaggggc cctgattcac gggccgctgg ggccagggtt\n",
      "       61 gggggttggg ggtgcccaca gggcttggct agtggggttt tgggggggca gtgggtgcaa\n",
      "      121 ggagtttggt ttgtgtctgc cggccggcag gcaaacgcaa cccacgcggt gggggaggcg\n",
      "      181 gctagcgtgg tggacccggg ccgcgtggcc ctgtggcagc cgagccatgg tttctaaact\n",
      "      241 gagccagctg cagacggagc tcctggcggc cctgctcgag tcagggctga gcaaagaggc\n",
      "      301 actgatccag gcactgggtg agccggggcc ctacctcctg gctggagaag gccccctgga\n",
      "      361 caagggggag tcctgcggcg gcggtcgagg ggagctggct gagctgccca atgggctggg\n",
      "      421 ggagactcgg ggctccgagg acgagacgga cgacgatggg gaagacttca cgccacccat\n",
      "      481 cctcaaagag ctggagaacc tcagccctga ggaggcggcc caccagaaag ccgtggtgga\n",
      "      541 gacccttctg caggaggacc cgtggcgtgt ggcgaagatg gtcaagtcct acctgcagca\n",
      "      601 gcacaacatc ccacagcggg aggtggtcga taccactggc ctcaaccagt cccacctgtc\n",
      "      661 ccaacacctc aacaagggca ctcccatgaa gacgcagaag cgggccgccc tgtacacctg\n",
      "      721 gtacgtccgc aagcagcgag aggtggcgca gcagttcacc catgcagggc agggagggct\n",
      "      781 gattgaagag cccacaggtg atgagctacc aaccaagaag gggcggagga accgtttcaa\n",
      "      841 gtggggccca gcatcccagc agatcctgtt ccaggcctat gagaggcaga agaaccctag\n",
      "      901 caaggaggag cgagagacgc tagtggagga gtgcaatagg gcggaatgca tccagagagg\n",
      "      961 ggtgtcccca tcacaggcac aggggctggg ctccaacctc gtcacggagg tgcgtgtcta\n",
      "     1021 caactggttt gccaaccggc gcaaagaaga agccttccgg cacaagctgg ccatggacac\n",
      "     1081 gtacagcggg ccccccccag ggccaggccc gggacctgcg ctgcccgctc acagctcccc\n",
      "     1141 tggcctgcct ccacctgccc tctcccccag taaggtccac ggtgtgcgct atggacagcc\n",
      "     1201 tgcgaccagt gagactgcag aagtaccctc aagcagcggc ggtcccttag tgacagtgtc\n",
      "     1261 tacacccctc caccaagtgt cccccacggg cctggagccc agccacagcc tgctgagtac\n",
      "     1321 agaagccaag ctggtctcag cagctggggg ccccctcccc cctgtcagca ccctgacagc\n",
      "     1381 actgcacagc ttggagcaga catccccagg cctcaaccag cagccccaga acctcatcat\n",
      "     1441 ggcctcactt cctggggtca tgaccatcgg gcctggtgag cctgcctccc tgggtcctac\n",
      "     1501 gttcaccaac acaggtgcct ccaccctggt catcgccctc tacagccaca agcccgaggt\n",
      "     1561 ggcccagtac acccacacgg gcctgctccc gcagactatg ctcatcaccg acaccaccaa\n",
      "     1621 cctgagcgcc ctggccagcc tcacgcccac caagcaggtc ttcacctcag acactgaggc\n",
      "     1681 ctccagtgag tccgggcttc acacgccggc atctcaggcc accaccctcc acgtccccag\n",
      "     1741 ccaggaccct gccagcatcc agcacctgca gccggcccac cggctcagcg ccagccccac\n",
      "     1801 agtgtcctcc agcagcctgg tgctgtacca gagctcagac tccagcaatg gccagagcca\n",
      "     1861 cctgctgcca tccaaccaca gcgtcatcga gaccttcatc tccacccaga tggcctcttc\n",
      "     1921 ctcccagtaa ccacggcacc tgggccctgg ggcctgtact gcctgcttgg ggggtgatga\n",
      "     1981 gggcagcagc cagccctgcc tggaggacct gagcctgccg agcaaccgtg gcccttcctg\n",
      "     2041 gacagctgtg cctcgctccc cactctgctc tgatgcatca gaaagggagg gctctgaggc\n",
      "     2101 gccccaaccc gtggaggctg ctcggggtgc acaggagggg gtcgtggaga gctaggagca\n",
      "     2161 aagcctgttc atggcagatg taggagggac tgtcgctgct tcgtgggata cagtcttctt\n",
      "     2221 acttggaact gaagggggcg gcctatgact tgggcacccc cagcctgggc ctatggagag\n",
      "     2281 ccctgggacc gctacaccac tctggcagcc acacttctca ggacacaggc ctgtgtagct\n",
      "     2341 gtgacctgct gagctctgag aggccctgga tcagcgtggc cttgttctgt caccaatgta\n",
      "     2401 cccaccgggc cactccttcc tgccccaact ccttccagct agtgacccac atgccatttg\n",
      "     2461 tactgacccc atcacctact cacacaggca tttcctgggt ggctactctg tgccagagcc\n",
      "     2521 tggggctcta acgcctgagc ccagggaggc cgaagctaac agggaaggca ggcagggctc\n",
      "     2581 tcctggcttc ccatccccag cgattccctc tcccaggccc catgacctcc agctttcctg\n",
      "     2641 tatttgttcc caagagcatc atgcctctga ggccagcctg gcctcctgcc tctactggga\n",
      "     2701 aggctacttc ggggctggga agtcgtcctt actcctgtgg gagcctcgca acccgtgcca\n",
      "     2761 agtccaggtc ctggtggggc agctcctctg tctcgagcgc cctgcagacc ctgcccttgt\n",
      "     2821 ttggggcagg agtagctgag ctcacaaggc agcaaggccc gagcagctga gcagggccgg\n",
      "     2881 ggaactggcc aagctgaggt gcccaggaga agaaagaggt gaccccaggg cacaggagct\n",
      "     2941 acctgtgtgg acaggactaa cactcagaag cctgggggcc tggctggctg agggcagttc\n",
      "     3001 gcagccaccc tgaggagtct gaggtcctga gcactgccag gagggacaaa ggagcctgtg\n",
      "     3061 aacccaggac aagcatggtc ccacatccct gggcctgctg ctgagaacct ggccttcagt\n",
      "     3121 gtaccgcgtc taccctggga ttcaggaaaa ggcctggggt gacccggcac cccctgcagc\n",
      "     3181 ttgtagccag ccggggcgag tggcacgttt atttaacttt tagtaaagtc aaggagaaat\n",
      "     3241 gcggtggaaa\n",
      "//\n",
      "\n",
      "\n"
     ]
    }
   ],
   "source": [
    "text = handle.read()\n",
    "print(text)"
   ]
  },
  {
   "cell_type": "code",
   "execution_count": null,
   "id": "27829ba0",
   "metadata": {},
   "outputs": [],
   "source": []
  },
  {
   "cell_type": "code",
   "execution_count": null,
   "id": "2697aa55",
   "metadata": {},
   "outputs": [],
   "source": []
  }
 ],
 "metadata": {
  "kernelspec": {
   "display_name": "Python 3 (ipykernel)",
   "language": "python",
   "name": "python3"
  },
  "language_info": {
   "codemirror_mode": {
    "name": "ipython",
    "version": 3
   },
   "file_extension": ".py",
   "mimetype": "text/x-python",
   "name": "python",
   "nbconvert_exporter": "python",
   "pygments_lexer": "ipython3",
   "version": "3.9.12"
  }
 },
 "nbformat": 4,
 "nbformat_minor": 5
}
