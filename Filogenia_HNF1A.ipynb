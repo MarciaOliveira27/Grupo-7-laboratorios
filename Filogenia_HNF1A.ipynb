{
 "cells": [
  {
   "cell_type": "markdown",
   "id": "33d6599b",
   "metadata": {},
   "source": [
    "__Alinhamento Múltiplo e Filogenia - Proteína HNF1alpha__"
   ]
  },
  {
   "cell_type": "code",
   "execution_count": 4,
   "id": "f7201c9d",
   "metadata": {},
   "outputs": [],
   "source": [
    "from Bio.Align import MultipleSeqAlignment\n",
    "from Bio.Blast import NCBIXML\n",
    "from Bio.Blast import NCBIWWW\n",
    "from Bio import SeqIO\n",
    "from Bio import AlignIO\n",
    "from Bio.SeqRecord import SeqRecord\n",
    "from Bio.Seq import Seq\n",
    "from Bio.Align import AlignInfo"
   ]
  },
  {
   "cell_type": "code",
   "execution_count": 5,
   "id": "f827214f",
   "metadata": {},
   "outputs": [
    {
     "name": "stdout",
     "output_type": "stream",
     "text": [
      "> sp|P20823.2| RecName: Full=Hepatocyte nuclear factor 1-alpha; Short=HNF-1-alpha; Short=HNF-1A; AltName: Full=Liver-specific transcription factor LF-B1; Short=LFB1; AltName: Full=Transcription factor 1; Short=TCF-1 [Homo sapiens] >gb|ABR09270.1| transcription factor 1, hepatic; LF-B1, hepatic nuclear factor (HNF1), albumin proximal factor [Homo sapiens] >gb|EAW98226.1| transcription factor 1, hepatic; LF-B1, hepatic nuclear factor (HNF1), albumin proximal factor, isoform CRA_a [Homo sapiens] >gb|KAI2568348.1| HNF1 homeobox A [Homo sapiens] \n",
      " MVSKLSQLQTELLAALLESGLSKEALIQALGEPGPYLLAGEGPLDKGESCGGGRGELAELPNGLGETRGSEDETDDDGEDFTPPILKELENLSPEEAAHQKAVVETLLQEDPWRVAKMVKSYLQQHNIPQREVVDTTGLNQSHLSQHLNKGTPMKTQKRAALYTWYVRKQREVAQQFTHAGQGGLIEEPTGDELPTKKGRRNRFKWGPASQQILFQAYERQKNPSKEERETLVEECNRAECIQRGVSPSQAQGLGSNLVTEVRVYNWFANRRKEEAFRHKLAMDTYSGPPPGPGPGPALPAHSSPGLPPPALSPSKVHGVRYGQPATSETAEVPSSSGGPLVTVSTPLHQVSPTGLEPSHSLLSTEAKLVSAAGGPLPPVSTLTALHSLEQTSPGLNQQPQNLIMASLPGVMTIGPGEPASLGPTFTNTGASTLVIGLASTQAQSVPVINSMGSSLTTLQPVQFSQPLHPSYQQPLMPPVQSHVTQSPFMATMAQLQSPHALYSHKPEVAQYTHTGLLPQTMLITDTTNLSALASLTPTKQVFTSDTEASSESGLHTPASQATTLHVPSQDPAGIQHLQPAHRLSASPTVSSSSLVLYQSSDSSNGQSHLLPSNHSVIETFISTQMASSSQ\n",
      "\n",
      "> gb|AAI04909.1| HNF1 homeobox A [Homo sapiens] >gb|AAI04911.1| HNF1 homeobox A [Homo sapiens] >gb|ABZ92189.1| transcription factor 1, hepatic; LF-B1, hepatic nuclear factor (HNF1), albumin proximal factor, partial [synthetic construct] \n",
      " MVSKLSQLQTELLAALLESGLSKEALIQALGEPGPYLLAGEGPLDKGESCGGGRGELAELPNGLGETRGSEDETDDDGEDFTPPILKELENLSPEEAAHQKAVVETLLQEDPWRVAKMVKSYLQQHNIPQREVVDTTGLNQSHLSQHLNKGTPMKTQKRAALYTWYVRKQREVAQQFTHAGQGGLIEEPTGDELPTKKGRRNRFKWGPASQQILFQAYERQKNPSKEERETLVEECNRAECIQRGVSPSQAQGLGSNLVTEVRVYNWFANRRKEEAFRHKLAMDTYSGPPPGPGPGPALPAHSSPGLPPPALSPSKVHGVRYGQPATSETAEVPSSSGGPLVTVSTPLHQVSPTGLEPSHSLLSTEAKLVSAAGGPLPPVSTLTALHSLEQTSPGLNQQPQNLIMASLPGVMTIGPGEPASLGPTFTNTGASTLVIGLASTQAQSVPVINSMGSSLTTLQPVQFSQPLHPSYQQPLMPPVQSHVTQSPFMATMAQLQSPHALYSHKPEVAQYTHTGLLPQTMLITDTTNLSALASLTPTKQVFTSDTEASSESGLHTPASQATTLHVPSQDPAGIQHLQPAHRLSASPTVSSSSLVLYQSSDSSNGQSHLLPSNHSVIETFISTQMASSSQ\n",
      "\n",
      "> gb|AAC51137.1| hepatic nuclear factor 1-alpha [Homo sapiens] \n",
      " MVSKLSQLQTELLAALLESGLSKEALIQALGEPGPYLLAGEGPLDKGESCGGGRGELAELPNGLGETRGSEDETDDDGEDFTPPILKELENLSPEEAAHQKAVVETLLQEDPWRVAKMVKSYLQQHNIPQREVVDTTGLNQSHLSQHLNKGTPMKTQKRAALYTWYVRKQREVAQQFTHAGQGGLIEEPTGDELPTKKGRRNRFKWGPASQQILFQAYERQKNPSKEERETLVEECNRAECIQRGVSPSQAQGLGSNLVTEVRVYNWFANRRKEEAFRHKLAMDTYSGPPPGPGPGPALPAHSSPGLPPPALSPSKVHGVRYGQPATSETAEVPSSSGGPLVTVSTPLHQVSPTGLEPSHSLLSTEAKLVSAAGGPLPPVSTLTALHSLEQTSPGLNQQPQNLIMASLPGVMTIGPGEPASLGPTFTNTGASTLVIGLASTQAQSVPVINSMGSSLTTLQPVQFSQPLHPSYQQPLMPPVQSHVTQSPFMATMAQLQSPHALYSHKPEVAQYTHTGLLPQTMLITDTTNLSALASLTPTKQVFTSDTEASSESGLHTPASQATTLHVPSQDPAGIQHLQPAHRLSASPTVSSSSLVLYQSSDSSNGQSHLLPSNHSVIETFISTQMASSSQ\n",
      "\n",
      "> ref|XP_001148615.5| hepatocyte nuclear factor 1-alpha isoform X3 [Pan troglodytes] >ref|XP_003832420.1| hepatocyte nuclear factor 1-alpha isoform X5 [Pan paniscus] >gb|PNI57605.1| HNF1A isoform 2 [Pan troglodytes] \n",
      " MVSKLSQLQTELLAALLESGLSKEALIQALGEPGPYLLAGEGPLDKGESCGGGRGELAELPNGLGETRGSEDETDDDGEDFTPPILKELENLSPEEAAHQKAVVETLLQEDPWRVAKMVKSYLQQHNIPQREVVDTTGLNQSHLSQHLNKGTPMKTQKRAALYTWYVRKQREVAQQFTHAGQGGLIEEPTGDELPTKKGRRNRFKWGPASQQILFQAYERQKNPSKEERETLVEECNRAECIQRGVSPSQAQGLGSNLVTEVRVYNWFANRRKEEAFRHKLAMDTYSGPPPGPGPGPALPAHSSPGLPPPALSPSKVHGVRYGQPATSETAEVPSSSGGPLVTVSTPLHQVSPTGLEPSHSLLSTEAKLVSAAGGPLPPVSTLTALHSLEQTSPGLNQQPQNLIMASLPGVMTIGPGEPASLGPTFTNTGASTLVIGLASTQAQSVPVINSMGSSLTTLQPVQFSQPLHPSYQQPLMPPVQSHVTQSPFMATMAQLQSPHALYSHKPEVAQYTHTGLLPQTMLITDTTNLSALASLTPTKQVFTSDTEASSESGLHTPASQATTLHVPSQDPAGIQHLQPAHRLSASPTVSSSSLVLYQSSDSSNGQSHLLPSNHSVIETFISTQMASSSQ\n",
      "\n",
      "> gb|KAI4068596.1| HNF1 homeobox A [Homo sapiens] >dbj|BAI45632.1| HNF1 homeobox A, partial [synthetic construct] \n",
      " MVSKLSQLQTELLAALLESGLSKEALIQALGEPGPYLLAGEGPLDKGESCGGGRGELAELPNGLGETRGSEDETDDDGEDFTPPILKELENLSPEEAAHQKAVVETLLQEDPWRVAKMVKSYLQQHNIPQREVVDTTGLNQSHLSQHLNKGTPMKTQKRAALYTWYVRKQREVAQQFTHAGQGGLIEEPTGDELPTKKGRRNRFKWGPASQQILFQAYERQKNPSKEERETLVEECNRAECIQRGVSPSQAQGLGSNLVTEVRVYNWFANRRKEEAFRHKLAMDTYSGPPPGPGPGPALPAHSSPGLPPPALSPSKVHGVRYGQPATSETAEVPSSSGGPLVTVSTPLHQVSPTGLEPSHSLLSTEAKLVSAAGGPLPPVSTLTALHSLEQTSPGLNQQPQNLIMASLPGVMTIGPGEPASLGPTFTNTGASTLVIGLASTQAQSVPVINSMGSSLTTLQPVQFSQPLHPSYQQPLMPPVQSHVTQSPFMATMAQLQSPHALYSHKPEVAQYTHTGLLPQTMLITDTTNLSALASLTPTKQVFTSDTEASSESGLHTPASQATTLHVPSQDPAGIQHLQPAHRLSASPTVSSSSLVLYQSSDSSNGQSHLLPSNHSVIETFISTQMASSSQ\n",
      "\n",
      "> ref|NP_000536.6| hepatocyte nuclear factor 1-alpha isoform 2 [Homo sapiens] \n",
      " MVSKLSQLQTELLAALLESGLSKEALIQALGEPGPYLLAGEGPLDKGESCGGGRGELAELPNGLGETRGSEDETDDDGEDFTPPILKELENLSPEEAAHQKAVVETLLQEDPWRVAKMVKSYLQQHNIPQREVVDTTGLNQSHLSQHLNKGTPMKTQKRAALYTWYVRKQREVAQQFTHAGQGGLIEEPTGDELPTKKGRRNRFKWGPASQQILFQAYERQKNPSKEERETLVEECNRAECIQRGVSPSQAQGLGSNLVTEVRVYNWFANRRKEEAFRHKLAMDTYSGPPPGPGPGPALPAHSSPGLPPPALSPSKVHGVRYGQPATSETAEVPSSSGGPLVTVSTPLHQVSPTGLEPSHSLLSTEAKLVSAAGGPLPPVSTLTALHSLEQTSPGLNQQPQNLIMASLPGVMTIGPGEPASLGPTFTNTGASTLVIGLASTQAQSVPVINSMGSSLTTLQPVQFSQPLHPSYQQPLMPPVQSHVTQSPFMATMAQLQSPHALYSHKPEVAQYTHTGLLPQTMLITDTTNLSALASLTPTKQVFTSDTEASSESGLHTPASQATTLHVPSQDPAGIQHLQPAHRLSASPTVSSSSLVLYQSSDSSNGQSHLLPSNHSVIETFISTQMASSSQ\n",
      "\n",
      "> gb|AAA88077.1| hepatic nuclear factor 1 [Homo sapiens] \n",
      " MVSKLSQLQTELLAALLESGLSKEALIQALGEPGPYLLAGEGPLDKGESCGGGRGELAELPNGLGETRGSEDETDDDGEDFTPPILKELENLSPEEAAHQKAVVETLLQEDPWRVAKMVKSYLQQHNIPQREVVDTTGLNQSHLSQHLNKGTPMKTQKRAALYTWYVRKQREVAQQFTHAGQGGLIEEPTGDELPTKKGRRNRFKWGPASQQILFQAYERQKNPSKEERETLVEECNRAECIQRGVSPSQAQGLGSNLVTEVRVYNWFANRRKEEAFRHKLAMDTYSGPPPGPGPGPALPAHSSPGLPPPALSPSKVHGVRYGQPATSETAEVPSSSGGPLVTVSTPLHQVSPTGLEPSHSLLSTEAKLVSAAGGPLPPVSTLTALHSLEQTSPGLNQQPQNLIMASLPGVMTIGPGEPASLGPTFTNTGASTLVIGLASTQAQSVPVINSMGSSLTTLQPVQFSQPLHPSYQQPLMPPVQSHVTQSPFMATMAQLQSPHALYSHKPEVAQYTHTGLLPQTMLITDTTNLSALASLTPTKQVFTSDTEASSESGLHTPASQATTLHVPSQDPAGIQHLQPAHRLSASPTVSSSSLVLYQSSDSSNGQSHLLPSNHSVIETFISTQMASSSQ\n",
      "\n",
      "> ref|XP_032024391.1| hepatocyte nuclear factor 1-alpha isoform X2 [Hylobates moloch] \n",
      " MVSKLSQLQTELLAALLESGLSKEALIQALGEPGPYLLAGEGPLDKGESCGGGRGELAELPNGLGETRGSEDETDDDGEDFTPPILKELENLSPEEAAHQKAVVETLLQEDPWRVAKMVKSYLQQHNIPQREVVDTTGLNQSHLSQHLNKGTPMKTQKRAALYTWYVRKQREVAQQFTHAGQGGLIEEPTGDELPTKKGRRNRFKWGPASQQILFQAYERQKNPSKEERETLVEECNRAECIQRGVSPSQAQGLGSNLVTEVRVYNWFANRRKEEAFRHKLAMDTYSGPPPGPGPGPALPAHSSPGLPPPALSPSKVHGVRYGQPATSETAEVPSSSGGPLVTVSTPLHQVSPTGLEPSHSLLSTEAKLVSAAGGPLPPVSTLTALHSLEQTSPGLNQQPQNLIMASLPGVMTIGPGEPASLGPTFTNTGASTLVIGLASTQAQSVPVINSMGSSLTTLQPVQFSQPLHPSYQQPLMPPVQSHVTQSPFMATMAQLQSPHALYSHKPEVAQYTHTGLLPQTMLITDTTNLSALASLTPTKQVFTSDTEASSESGLHTPASQATTLHVPSQDPAGIQHLQPAHRLSASPTVSSSSLVLYQSSDSSNGQSHLLPSNHSVIETFISTQMASSSQ\n",
      "\n",
      "> ref|XP_024112966.1| hepatocyte nuclear factor 1-alpha isoform X3 [Pongo abelii] >gb|PNJ82334.1| HNF1A isoform 3 [Pongo abelii] \n",
      " MVSKLSQLQTELLAALLESGLSKEALIQALGEPGPYLLAGEGPLDKGESCGGGRGELAELPNGLGETRGSEDETDDDGEDFTPPILKELENLSPEEAAHQKAVVETLLQEDPWRVAKMVKSYLQQHNIPQREVVDTTGLNQSHLSQHLNKGTPMKTQKRAALYTWYVRKQREVAQQFTHAGQGGLIEEPTGDELPTKKGRRNRFKWGPASQQILFQAYERQKNPSKEERETLVEECNRAECIQRGVSPSQAQGLGSNLVTEVRVYNWFANRRKEEAFRHKLAMDTYSGPPPGPGPGPALPAHSSPGLPPPALSPSKVHGVRYGQPATSETAEVPSSSGGPLVTVSTPLHQVSPTGLEPSHSLLSTEAKLVSAAGGPLPPVSTLTALHSLEQTSPGLNQQPQNLIMASLPGVMTIGPGEPASLGPTFTNTGASTLVIGLASTQAQSVPVINSMGSSLTTLQPVQFSQPLHPSYQQPLMPPVQSHVTQSPFMATMAQLQSPHALYSHKPEVAQYTHTGLLPQTMLITDTTNLSALASLTPTKQVFTSDTEASSESGLHTPASQATTLHVPSQDPAGIQHLQPAHRLSASPTVSSSSLVLYQSSDSSNGQSHLLPSNHSVIETFISTQMASSSQ\n",
      "\n",
      "> gb|KAI2568347.1| HNF1 homeobox A [Homo sapiens] \n",
      " MVSKLSQLQTELLAALLESGLSKEALIQALGEPGPYLLAGEGPLDKGESCGGGRGELAELPNGLGETRGSEDETDDDGEDFTPPILKELENLSPEEAAHQKAVVETLLQEDPWRVAKMVKSYLQQHNIPQREVVDTTGLNQSHLSQHLNKGTPMKTQKRAALYTWYVRKQREVAQQFTHAGQGGLIEEPTGDELPTKKGRRNRFKWGPASQQILFQAYERQKNPSKEERETLVEECNRAECIQRGVSPSQAQGLGSNLVTEVRVYNWFANRRKEEAFRHKLAMDTYSGPPPGPGPGPALPAHSSPGLPPPALSPSKVHGVRYGQPATSETAEVPSSSGGPLVTVSTPLHQVSPTGLEPSHSLLSTEAKLVSAAGGPLPPVSTLTALHSLEQTSPGLNQQPQNLIMASLPGVMTIGPGEPASLGPTFTNTGASTLVIGLASTQAQSVPVINSMGSSLTTLQPVQFSQPLHPSYQQPLMPPVQSHVTQSPFMATMAQLQSPHALYSHKPEVAQYTHTGLLPQTMLITDTTNLSALASLTPTK-------QVFTSDTEASSESGLHTPASQATTLHVPSQDPAGIQHLQPAHRLSASPTVSSSSLVLYQSSDSSNGQSHLLPSNHSVIETFISTQMASSSQ\n",
      "\n",
      "> gb|AVQ93642.1| truncated hepatocyte nuclear factor 1 alpha [Homo sapiens] \n",
      " MVSKLSQLQTELLAALLESGLSKEALIQALGEPGPYLLAGEGPLDKGESCGGGRGELAELPNGLGETRGSEDETDDDGEDFTPPILKELENLSPEEAAHQKAVVETLLQEDPWRVAKMVKSYLQQHNIPQREVVDTTGLNQSHLSQHLNKGTPMKTQKRAALYTWYVRKQREVAQQFTHAGQGGLIEEPTGDELPTKKGRRNRFKWGPASQQILFQAYERQKNPSKEERETLVEECNRAECIQRGVSPSQAQGLGSNLVTEVRVYNWFANRRKEEAFRHKLAMDTYSGPPPGPGPGPALPAHSSPGLPPPALSPSKVHGVRYGQPATSETAEVPSSSGGPLVTVSTPLHQVSPTGLEPSHSLLSTEAKLVSAAGGPLPPVSTLTALHSLEQTSPGLNQQPQNLIMASLPGVMTIGPGEPASLGPTFTNTGASTLVIGLASTQAQSVPVINSMGSSLTTLQPVQFSQPLHPSYQQPLMPPVQSHVTQSPFMATMAQLQSPHALYSHKPEVAQYTHTGLLPQTMLITDTTNLSALASLTPTKQVFTSDTEASSESGLHTPASQATTLHVPSQDPAGIQHLQPAHRLSASPTVSSSSLVLYQSSDSSNGQSHLLPSNHSVIETFISTQMASSSQ\n",
      "\n",
      "> gb|AVQ93643.1| truncated hepatocyte nuclear factor 1 alpha [Homo sapiens] \n",
      " MVSKLSQLQTELLAALLESGLSKEALIQALGEPGPYLLAGEGPLDKGESCGGGRGELAELPNGLGETRGSEDETDDDGEDFTPPILKELENLSPEEAAHQKAVVETLLQEDPWRVAKMVKSYLQQHNIPQREVVDTTGLNQSHLSQHLNKGTPMKTQKRAALYTWYVRKQREVAQQFTHAGQGGLIEEPTGDELPTKKGRRNRFKWGPASQQILFQAYERQKNPSKEERETLVEECNRAECIQRGVSPSQAQGLGSNLVTEVRVYNWFANRRKEEAFRHKLAMDTYSGPPPGPGPGPALPAHSSPGLPPPALSPSKVHGVRYGQPATSETAEVPSSSGGPLVTVSTPLHQVSPTGLEPSHSLLSTEAKLVSAAGGPLPPVSTLTALHSLEQTSPGLNQQPQNLIMASLPGVMTIGPGEPASLGPTFTNTGASTLVIGLASTQAQSVPVINSMGSSLTTLQPVQFSQPLHPSYQQPLMPPVQSHVTQSPFMATMAQLQSPHALYSHKPEVAQYTHTGLLPQTMLITDTTNLSALASLTPTKQVFTSDTEASSESGLHTPASQATTLHVPSQDPAGIQHLQPAHRLSASPTVSSSSLVLYQSSDSSNGQSHLLPSNHSVIETFISTQMASSSQ\n",
      "\n",
      "> ref|XP_030677372.1| hepatocyte nuclear factor 1-alpha isoform X3 [Nomascus leucogenys] \n",
      " MVSKLSQLQTELLAALLESGLSKEALIQALGEPGPYLLAGEGPLDKGESCGGGRGELAELPNGLGETRGSEDETDDDGEDFTPPILKELENLSPEEAAHQKAVVETLLQEDPWRVAKMVKSYLQQHNIPQREVVDTTGLNQSHLSQHLNKGTPMKTQKRAALYTWYVRKQREVAQQFTHAGQGGLIEEPTGDELPTKKGRRNRFKWGPASQQILFQAYERQKNPSKEERETLVEECNRAECIQRGVSPSQAQGLGSNLVTEVRVYNWFANRRKEEAFRHKLAMDTYSGPPPGPGPGPALPAHSSPGLPPPALSPSKVHGVRYGQPATSETAEVPSSSGGPLVTVSTPLHQVSPTGLEPSHSLLSTEAKLVSAAGGPLPPVSTLTALHSLEQTSPGLNQQPQNLIMASLPGVMTIGPGEPASLGPTFTNTGASTLVIGLASTQAQSVPVINSMGSSLTTLQPVQFSQPLHPSYQQPLMPPVQSHVTQSPFMATMAQLQSPHALYSHKPEVAQYTHTGLLPQTMLITDTTNLSALASLTPTKQVFTSDTEASSESGLHTPASQATTLHVPSQDPAGIQHLQPAHRLSASPTVSSSSLVLYQSSDSSNGQSHLLPSNHSVIETFISTQMASSSQ\n",
      "\n",
      "> ref|XP_033076241.1| hepatocyte nuclear factor 1-alpha isoform X2 [Trachypithecus francoisi] \n",
      " MVSKLSQLQTELLAALLESGLSKEALIQALGEPGPYLLAGEGPLDKGESCGGGRGELAELPNGLGETRGSEDETDDDGEDFTPPILKELENLSPEEAAHQKAVVETLLQEDPWRVAKMVKSYLQQHNIPQREVVDTTGLNQSHLSQHLNKGTPMKTQKRAALYTWYVRKQREVAQQFTHAGQGGLIEEPTGDELPTKKGRRNRFKWGPASQQILFQAYERQKNPSKEERETLVEECNRAECIQRGVSPSQAQGLGSNLVTEVRVYNWFANRRKEEAFRHKLAMDTYSGPPPGPGPGPALPAHSSPGLPPPALSPSKVHGVRYGQPATSETAEVPSSSGGPLVTVSTPLHQVSPTGLEPSHSLLSTEAKLVSAAGGPLPPVSTLTALHSLEQTSPGLNQQPQNLIMASLPGVMTIGPGEPASLGPTFTNTGASTLVIGLASTQAQSVPVINSMGSSLTTLQPVQFSQPLHPSYQQPLMPPVQSHVTQSPFMATMAQLQSPHALYSHKPEVAQYTHTGLLPQTMLITDTTNLSALASLTPTKQVFTSDTEASSESGLHTPASQATTLHVPSQDPAGIQHLQPAHRLSASPTVSSSSLVLYQSSDSSNGQSHLLPSNHSVIETFISTQMASSSQ\n",
      "\n",
      "> gb|AVQ93641.1| truncated hepatocyte nuclear factor 1 alpha [Homo sapiens] \n",
      " MVSKLSQLQTELLAALLESGLSKEALIQALGEPGPYLLAGEGPLDKGESCGGGRGELAELPNGLGETRGSEDETDDDGEDFTPPILKELENLSPEEAAHQKAVVETLLQEDPWRVAKMVKSYLQQHNIPQREVVDTTGLNQSHLSQHLNKGTPMKTQKRAALYTWYVRKQREVAQQFTHAGQGGLIEEPTGDELPTKKGRRNRFKWGPASQQILFQAYERQKNPSKEERETLVEECNRAECIQRGVSPSQAQGLGSNLVTEVRVYNWFANRRKEEAFRHKLAMDTYSGPPPGPGPGPALPAHSSPGLPPPALSPSKVHGVRYGQPATSETAEVPSSSGGPLVTVSTPLHQVSPTGLEPSHSLLSTEAKLVSAAGGPLPPVSTLTALHSLEQTSPGLNQQPQNLIMASLPGVMTIGPGEPASLGPTFTNTGASTLVIGLASTQAQSVPVINSMGSSLTTLQPVQFSQPLHPSYQQPLMPPVQSHVTQSPFMATMAQLQSPHALYSHKPEVAQYTHTGLLPQTMLITDTTNLSALASLTPTKQVFTSDTEASSESGLHTPASQATTLHVPSQDPAGIQHLQPAHRLSASPTVSSSSLVLYQSSDSSNGQSHLLPSNHSVIETFISTQMASSSQ\n",
      "\n"
     ]
    }
   ],
   "source": [
    "#converter o ficheiro xml do blastp para fasta\n",
    "blast_P20823 = open(\"blast_P20823.xml\")\n",
    "blast_records = NCBIXML.read(blast_P20823)\n",
    "ficheiro = str(\"seqs_P20823.fasta\")\n",
    "save = open(ficheiro, 'w+')\n",
    "for alignment in blast_records.alignments:\n",
    "    for hsp in alignment.hsps:\n",
    "        save.write('>' + alignment.title + '\\n' + hsp.sbjct[0:75] + '\\n')\n",
    "        print('>', alignment.title, '\\n', hsp.query)\n",
    "        print()"
   ]
  },
  {
   "cell_type": "code",
   "execution_count": 13,
   "id": "98592f36",
   "metadata": {},
   "outputs": [
    {
     "name": "stdout",
     "output_type": "stream",
     "text": [
      "Alignment with 15 rows and 75 columns\n",
      "MVSKLSQLQTELLAALLESGLSKEALIQALGEPGPYLLAGEGPL...ETD sp|P20823.2|\n",
      "MVSKLSQLQTELLAALLESGLSKEALLQALGEPGPYLLAGEGPL...ETD gb|AAI04909.1|\n",
      "MVSKLSQLQTELLAALLESGLSKEALIQALGEPGPYLLAGEGPL...ETD gb|AAC51137.1|\n",
      "MVSKLSQLQTELLAALLESGLSKEALIQALGEPGPYLLAGEGPL...ETD ref|XP_001148615.5|\n",
      "MVSKLSQLQTELLAALLESGLSKEALLQALGEPGPYLLAGEGPL...ETD gb|KAI4068596.1|\n",
      "MVSKLSQLQTELLAALLESGLSKEALIQALGEPGPYLLAGEGPL...ETD ref|NP_000536.6|\n",
      "MVSKLSQLQTELLAALLESGLSKEALIQALGEPGPYLLAGEGPL...ETD gb|AAA88077.1|\n",
      "MVSKLSQLQTELLAALLESGLSKEALIQALGEPGPYLLAGEGPL...ETD ref|XP_032024391.1|\n",
      "MVSKLSQLQTELLAALLESGLSKEALIQALGEPGPYLLAGEGPL...ETD ref|XP_024112966.1|\n",
      "MVSKLSQLQTELLAALLESGLSKEALIQALGEPGPYLLAGEGPL...ETD gb|KAI2568347.1|\n",
      "MVSKLSQLQTELLAALLESGLSKEALIQALGEPGPYLLAGEGPL...ETD gb|AVQ93642.1|\n",
      "MVSKLSQLQTELLAALLESGLSKEALIQALGEPGPYLLAGEGPL...ETD gb|AVQ93643.1|\n",
      "MVSKLSQLQTELLAALLESGLSKETLIQALGEPGPYLLAGEGPL...ETD ref|XP_030677372.1|\n",
      "MVSKLSQLQTELLAALLESGLSKEALIQALGEPGPYLLAGDGPL...DTD ref|XP_033076241.1|\n",
      "MVSKLSQLQTELLAALLESGLSKEALIQALGEPGPYLLAGEGPL...ETD gb|AVQ93641.1|\n"
     ]
    }
   ],
   "source": [
    "#alinhar as sequências e guardar ficheiro com extensão fasta\n",
    "def parse_align(align_file, alinhamento):\n",
    "    alignments = AlignIO.parse(align_file,format = \"fasta\")\n",
    "    for alignment in alignments:\n",
    "        print(alignment)\n",
    "    AlignIO.write(alignment, alinhamento, \"fasta\")\n",
    "parse_align(\"seqs_P20823.fasta\", \"align_P20823\")"
   ]
  },
  {
   "cell_type": "code",
   "execution_count": 14,
   "id": "063b0f43",
   "metadata": {},
   "outputs": [
    {
     "name": "stdout",
     "output_type": "stream",
     "text": [
      "Alignment with 15 rows and 75 columns\n",
      "MVSKLSQLQTELLAALLESGLSKEALIQALGEPGPYLLAGEGPL...ETD sp|P20823.2|\n",
      "MVSKLSQLQTELLAALLESGLSKEALLQALGEPGPYLLAGEGPL...ETD gb|AAI04909.1|\n",
      "MVSKLSQLQTELLAALLESGLSKEALIQALGEPGPYLLAGEGPL...ETD gb|AAC51137.1|\n",
      "MVSKLSQLQTELLAALLESGLSKEALIQALGEPGPYLLAGEGPL...ETD ref|XP_001148615.5|\n",
      "MVSKLSQLQTELLAALLESGLSKEALLQALGEPGPYLLAGEGPL...ETD gb|KAI4068596.1|\n",
      "MVSKLSQLQTELLAALLESGLSKEALIQALGEPGPYLLAGEGPL...ETD ref|NP_000536.6|\n",
      "MVSKLSQLQTELLAALLESGLSKEALIQALGEPGPYLLAGEGPL...ETD gb|AAA88077.1|\n",
      "MVSKLSQLQTELLAALLESGLSKEALIQALGEPGPYLLAGEGPL...ETD ref|XP_032024391.1|\n",
      "MVSKLSQLQTELLAALLESGLSKEALIQALGEPGPYLLAGEGPL...ETD ref|XP_024112966.1|\n",
      "MVSKLSQLQTELLAALLESGLSKEALIQALGEPGPYLLAGEGPL...ETD gb|KAI2568347.1|\n",
      "MVSKLSQLQTELLAALLESGLSKEALIQALGEPGPYLLAGEGPL...ETD gb|AVQ93642.1|\n",
      "MVSKLSQLQTELLAALLESGLSKEALIQALGEPGPYLLAGEGPL...ETD gb|AVQ93643.1|\n",
      "MVSKLSQLQTELLAALLESGLSKETLIQALGEPGPYLLAGEGPL...ETD ref|XP_030677372.1|\n",
      "MVSKLSQLQTELLAALLESGLSKEALIQALGEPGPYLLAGDGPL...DTD ref|XP_033076241.1|\n",
      "MVSKLSQLQTELLAALLESGLSKEALIQALGEPGPYLLAGEGPL...ETD gb|AVQ93641.1|\n"
     ]
    }
   ],
   "source": [
    "aln_seed = AlignIO.read(\"align_P20823\", \"fasta\")\n",
    "print(aln_seed)"
   ]
  },
  {
   "cell_type": "code",
   "execution_count": 15,
   "id": "6f39e9e7",
   "metadata": {},
   "outputs": [
    {
     "data": {
      "text/plain": [
       "1"
      ]
     },
     "execution_count": 15,
     "metadata": {},
     "output_type": "execute_result"
    }
   ],
   "source": [
    "#passar o ficheiro anterior para o formato stockholm\n",
    "stockolm = AlignIO.parse(\"align_P20823\",\"fasta\")\n",
    "AlignIO.convert(\"align_P20823\",\"fasta\", \"align_results_P20823.sth\", \"stockholm\")"
   ]
  },
  {
   "cell_type": "markdown",
   "id": "ea38d27c",
   "metadata": {},
   "source": [
    "__Árvore Upgma__"
   ]
  },
  {
   "cell_type": "code",
   "execution_count": 16,
   "id": "e64ad654",
   "metadata": {},
   "outputs": [],
   "source": [
    "from Bio.Phylo.TreeConstruction import DistanceCalculator\n",
    "from Bio.Phylo.TreeConstruction import DistanceTreeConstructor\n",
    "from Bio import Phylo"
   ]
  },
  {
   "cell_type": "code",
   "execution_count": 17,
   "id": "9140c145",
   "metadata": {},
   "outputs": [],
   "source": [
    "alinhamento_P20823 = AlignIO.read(open(\"align_results_P20823.sth\"),\"stockholm\")"
   ]
  },
  {
   "cell_type": "code",
   "execution_count": 31,
   "id": "7c50ff44",
   "metadata": {},
   "outputs": [],
   "source": [
    "calculator = DistanceCalculator('blosum62')"
   ]
  },
  {
   "cell_type": "code",
   "execution_count": 32,
   "id": "ec021083",
   "metadata": {},
   "outputs": [],
   "source": [
    "dm = calculator.get_distance(alinhamento_P20823)"
   ]
  },
  {
   "cell_type": "code",
   "execution_count": 33,
   "id": "d8f10f0e",
   "metadata": {},
   "outputs": [
    {
     "name": "stdout",
     "output_type": "stream",
     "text": [
      "sp|P20823.2|\t0\n",
      "gb|AAI04909.1|\t0.0053050397877983935\t0\n",
      "gb|AAC51137.1|\t0.0\t0.0053050397877983935\t0\n",
      "ref|XP_001148615.5|\t0.0\t0.0053050397877983935\t0.0\t0\n",
      "gb|KAI4068596.1|\t0.0053050397877983935\t0.0\t0.0053050397877983935\t0.0053050397877983935\t0\n",
      "ref|NP_000536.6|\t0.0\t0.0053050397877983935\t0.0\t0.0\t0.0053050397877983935\t0\n",
      "gb|AAA88077.1|\t0.0\t0.0053050397877983935\t0.0\t0.0\t0.0053050397877983935\t0.0\t0\n",
      "ref|XP_032024391.1|\t0.010582010582010581\t0.015873015873015928\t0.010582010582010581\t0.010582010582010581\t0.015873015873015928\t0.010582010582010581\t0.010582010582010581\t0\n",
      "ref|XP_024112966.1|\t0.0\t0.0053050397877983935\t0.0\t0.0\t0.0053050397877983935\t0.0\t0.0\t0.010582010582010581\t0\n",
      "gb|KAI2568347.1|\t0.0\t0.0053050397877983935\t0.0\t0.0\t0.0053050397877983935\t0.0\t0.0\t0.010582010582010581\t0.0\t0\n",
      "gb|AVQ93642.1|\t0.0\t0.0053050397877983935\t0.0\t0.0\t0.0053050397877983935\t0.0\t0.0\t0.010582010582010581\t0.0\t0.0\t0\n",
      "gb|AVQ93643.1|\t0.0\t0.0053050397877983935\t0.0\t0.0\t0.0053050397877983935\t0.0\t0.0\t0.010582010582010581\t0.0\t0.0\t0.0\t0\n",
      "ref|XP_030677372.1|\t0.03448275862068961\t0.03978779840848812\t0.03448275862068961\t0.03448275862068961\t0.03978779840848812\t0.03448275862068961\t0.03448275862068961\t0.02645502645502651\t0.03448275862068961\t0.03448275862068961\t0.03448275862068961\t0.03448275862068961\t0\n",
      "ref|XP_033076241.1|\t0.02110817941952503\t0.02638522427440637\t0.02110817941952503\t0.02110817941952503\t0.02638522427440637\t0.02110817941952503\t0.02110817941952503\t0.02902374670184693\t0.02110817941952503\t0.02110817941952503\t0.02110817941952503\t0.02110817941952503\t0.0554089709762533\t0\n",
      "gb|AVQ93641.1|\t0.0\t0.0053050397877983935\t0.0\t0.0\t0.0053050397877983935\t0.0\t0.0\t0.010582010582010581\t0.0\t0.0\t0.0\t0.0\t0.03448275862068961\t0.02110817941952503\t0\n",
      "\tsp|P20823.2|\tgb|AAI04909.1|\tgb|AAC51137.1|\tref|XP_001148615.5|\tgb|KAI4068596.1|\tref|NP_000536.6|\tgb|AAA88077.1|\tref|XP_032024391.1|\tref|XP_024112966.1|\tgb|KAI2568347.1|\tgb|AVQ93642.1|\tgb|AVQ93643.1|\tref|XP_030677372.1|\tref|XP_033076241.1|\tgb|AVQ93641.1|\n"
     ]
    }
   ],
   "source": [
    "print(dm)"
   ]
  },
  {
   "cell_type": "code",
   "execution_count": 34,
   "id": "d782b34e",
   "metadata": {},
   "outputs": [
    {
     "name": "stdout",
     "output_type": "stream",
     "text": [
      "Tree(rooted=True)\n",
      "    Clade(branch_length=0, name='Inner14')\n",
      "        Clade(name='ref|XP_030677372.1|')\n",
      "        Clade(name='Inner13')\n",
      "            Clade(name='ref|XP_033076241.1|')\n",
      "            Clade(name='Inner12')\n",
      "                Clade(name='ref|XP_032024391.1|')\n",
      "                Clade(name='Inner11')\n",
      "                    Clade(name='Inner8')\n",
      "                        Clade(name='gb|KAI4068596.1|')\n",
      "                        Clade(name='gb|AAI04909.1|')\n",
      "                    Clade(name='Inner10')\n",
      "                        Clade(name='Inner9')\n",
      "                            Clade(name='Inner7')\n",
      "                                Clade(name='Inner6')\n",
      "                                    Clade(name='Inner5')\n",
      "                                        Clade(name='Inner4')\n",
      "                                            Clade(name='Inner3')\n",
      "                                                Clade(name='Inner2')\n",
      "                                                    Clade(name='Inner1')\n",
      "                                                        Clade(name='gb|AVQ93641.1|')\n",
      "                                                        Clade(name='gb|AVQ93643.1|')\n",
      "                                                    Clade(name='gb|AVQ93642.1|')\n",
      "                                                Clade(name='gb|KAI2568347.1|')\n",
      "                                            Clade(name='ref|XP_024112966.1|')\n",
      "                                        Clade(name='gb|AAA88077.1|')\n",
      "                                    Clade(name='ref|NP_000536.6|')\n",
      "                                Clade(name='ref|XP_001148615.5|')\n",
      "                            Clade(name='gb|AAC51137.1|')\n",
      "                        Clade(name='sp|P20823.2|')\n"
     ]
    }
   ],
   "source": [
    "constructor = DistanceTreeConstructor()\n",
    "upgmatree = constructor.upgma(dm)\n",
    "print(upgmatree)"
   ]
  },
  {
   "cell_type": "code",
   "execution_count": 35,
   "id": "8ccad45c",
   "metadata": {},
   "outputs": [
    {
     "name": "stdout",
     "output_type": "stream",
     "text": [
      "Tree(rooted=False)\n",
      "    Clade(branch_length=0, name='Inner13')\n",
      "        Clade(name='Inner12')\n",
      "            Clade(name='Inner11')\n",
      "                Clade(name='Inner10')\n",
      "                    Clade(name='Inner9')\n",
      "                        Clade(name='Inner8')\n",
      "                            Clade(name='Inner7')\n",
      "                                Clade(name='Inner6')\n",
      "                                    Clade(name='Inner5')\n",
      "                                        Clade(name='gb|AAC51137.1|')\n",
      "                                        Clade(name='sp|P20823.2|')\n",
      "                                    Clade(name='Inner4')\n",
      "                                        Clade(name='Inner3')\n",
      "                                            Clade(name='ref|XP_033076241.1|')\n",
      "                                            Clade(name='Inner1')\n",
      "                                                Clade(name='ref|XP_030677372.1|')\n",
      "                                                Clade(name='ref|XP_032024391.1|')\n",
      "                                        Clade(name='Inner2')\n",
      "                                            Clade(name='gb|KAI4068596.1|')\n",
      "                                            Clade(name='gb|AAI04909.1|')\n",
      "                                Clade(name='ref|XP_001148615.5|')\n",
      "                            Clade(name='ref|NP_000536.6|')\n",
      "                        Clade(name='gb|AAA88077.1|')\n",
      "                    Clade(name='ref|XP_024112966.1|')\n",
      "                Clade(name='gb|KAI2568347.1|')\n",
      "            Clade(name='gb|AVQ93642.1|')\n",
      "        Clade(name='gb|AVQ93643.1|')\n",
      "        Clade(name='gb|AVQ93641.1|')\n"
     ]
    }
   ],
   "source": [
    "njtree = constructor.nj(dm)\n",
    "print(njtree)"
   ]
  },
  {
   "cell_type": "code",
   "execution_count": 36,
   "id": "5de61d3d",
   "metadata": {},
   "outputs": [
    {
     "name": "stdout",
     "output_type": "stream",
     "text": [
      "  ________________________________________________ ref|XP_030677372.1|\n",
      " |\n",
      " |                   _____________________________ ref|XP_033076241.1|\n",
      "_|                  |\n",
      " |                  |               ______________ ref|XP_032024391.1|\n",
      " |                  |              |\n",
      " |__________________|              |                     , gb|KAI4068596.1|\n",
      "                    |              |               ______|\n",
      "                    |              |              |      | gb|AAI04909.1|\n",
      "                    |              |              |\n",
      "                    |______________|              |      , gb|AVQ93641.1|\n",
      "                                   |              |      |\n",
      "                                   |              |      | gb|AVQ93643.1|\n",
      "                                   |              |      |\n",
      "                                   |              |      | gb|AVQ93642.1|\n",
      "                                   |              |      |\n",
      "                                   |______________|      | gb|KAI2568347.1|\n",
      "                                                  |      |\n",
      "                                                  |      | ref|XP_024112966.1|\n",
      "                                                  |      |\n",
      "                                                  |      | gb|AAA88077.1|\n",
      "                                                  |      |\n",
      "                                                  |      | ref|NP_000536.6|\n",
      "                                                  |      |\n",
      "                                                  |      | ref|XP_001148615.5|\n",
      "                                                  |      |\n",
      "                                                  |______| gb|AAC51137.1|\n",
      "                                                         |\n",
      "                                                         | sp|P20823.2|\n",
      "\n"
     ]
    }
   ],
   "source": [
    "Phylo.draw_ascii(upgmatree)"
   ]
  },
  {
   "cell_type": "code",
   "execution_count": 24,
   "id": "ed5de43b",
   "metadata": {},
   "outputs": [
    {
     "name": "stdout",
     "output_type": "stream",
     "text": [
      " , gb|AAC51137.1|\n",
      " |\n",
      " | sp|P20823.2|\n",
      " |\n",
      " | ________________________________ ref|XP_033076241.1|\n",
      " ,|\n",
      " ||              ________________________________________ ref|XP_030677372.1|\n",
      " ||_____________|\n",
      " |              | ref|XP_032024391.1|\n",
      " |\n",
      " |       , gb|KAI4068596.1|\n",
      " |_______|\n",
      " |       | gb|AAI04909.1|\n",
      " |\n",
      " | ref|XP_001148615.5|\n",
      " |\n",
      " | ref|NP_000536.6|\n",
      " |\n",
      " | gb|AAA88077.1|\n",
      " |\n",
      " | ref|XP_024112966.1|\n",
      " |\n",
      " | gb|KAI2568347.1|\n",
      " |\n",
      "_| gb|AVQ93642.1|\n",
      " |\n",
      " | gb|AVQ93643.1|\n",
      " |\n",
      " | gb|AVQ93641.1|\n",
      "\n"
     ]
    }
   ],
   "source": [
    "Phylo.draw_ascii(njtree)"
   ]
  }
 ],
 "metadata": {
  "kernelspec": {
   "display_name": "Python 3 (ipykernel)",
   "language": "python",
   "name": "python3"
  },
  "language_info": {
   "codemirror_mode": {
    "name": "ipython",
    "version": 3
   },
   "file_extension": ".py",
   "mimetype": "text/x-python",
   "name": "python",
   "nbconvert_exporter": "python",
   "pygments_lexer": "ipython3",
   "version": "3.9.12"
  }
 },
 "nbformat": 4,
 "nbformat_minor": 5
}
